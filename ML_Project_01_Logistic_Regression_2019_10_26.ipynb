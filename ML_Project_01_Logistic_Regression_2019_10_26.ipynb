{
 "cells": [
  {
   "cell_type": "code",
   "execution_count": 1,
   "metadata": {},
   "outputs": [],
   "source": [
    "import matplotlib.pyplot as plt\n",
    "\n",
    "from scipy import stats\n",
    "import scipy as sp\n",
    "\n",
    "import numpy as np\n",
    "import pandas as pd\n",
    "import os\n",
    "import statsmodels.api as sm\n",
    "\n",
    "from sklearn.tree import DecisionTreeClassifier\n",
    "from sklearn.metrics import confusion_matrix\n",
    "from sklearn.preprocessing import LabelEncoder\n",
    "from sklearn.preprocessing import LabelBinarizer\n",
    "from sklearn.model_selection import train_test_split\n",
    "from sklearn.metrics import classification_report\n",
    "from sklearn.linear_model import LogisticRegression\n",
    "from sklearn.multiclass import OneVsRestClassifier\n",
    "from sklearn.discriminant_analysis import QuadraticDiscriminantAnalysis\n",
    "from sklearn.naive_bayes import MultinomialNB\n",
    "from sklearn.linear_model import Perceptron\n",
    "from sklearn.svm import SVC\n",
    "\n",
    "%matplotlib inline"
   ]
  },
  {
   "cell_type": "markdown",
   "metadata": {},
   "source": [
    "## - Project started from 2019-10-08"
   ]
  },
  {
   "cell_type": "markdown",
   "metadata": {},
   "source": [
    "## - Goal\n",
    "- 1) Get familiar with \"Logistic Regression Model\"\n",
    "- 2) Try to build a model that can perform better than one of my original features."
   ]
  },
  {
   "cell_type": "markdown",
   "metadata": {},
   "source": [
    "## - Data Split\n",
    "- 1) 20150831 ~ 20180331 (train)\n",
    "- 2) 20180401 ~ 20190331 (test)\n",
    "- 3) 20190401 ~ 20191008 (out of sample)"
   ]
  },
  {
   "cell_type": "markdown",
   "metadata": {},
   "source": [
    "## - Model\n",
    "- Discriminative Model\n",
    "    - Logistic Regression Analysis"
   ]
  },
  {
   "cell_type": "markdown",
   "metadata": {},
   "source": [
    "## - Basic concept of the \"Logistic Regression\"\n",
    "- Linear and Logistic Regression are the most basic form of regression.\n",
    "- The Logistic Regression can be used when the dependent variable (target value) is **binary value**. \n",
    "- The Linear Regression can be used when the dependent variable (target values) is **continuous value**.\n",
    "$$ p(y \\mid x) = \\text{Bin} (y; \\mu(x), N) $$\n",
    "$$ p(y \\mid x) = \\text{Bern} (y; \\mu(x) )$$\n",
    "- A problem that we want to solve has a 0 or 1 dependent variable (y value), we predict the $\\mu(x)$ based on the $x$ values, and predict dependent variable (y value).\n",
    "$$ \\hat{y} = \\begin{cases} 1 & \\text{ if } \\mu(x) \\geq 0.5 \\\\ 0 & \\text{ if } \\mu(x) < 0.5 \\end{cases} $$\n",
    "- Then, What is the $\\mu(x)$ ?\n",
    "    - In a Logistic Regression, it assumes that the Bernoulli function's parameter($\\mu$) is the function of $x$.\n",
    "    - a sigmoid function that converts $x$ values to 0 ~ 1 values is used for the $\\mu(x)$.\n",
    "$$\n",
    "\\mu = f(w^Tx + b)\n",
    "$$\n",
    "    - For the $\\mu$ function, below functions are commonly used.\n",
    "        - 1) Logistic Function\n",
    "        $$ \\text{logitstic}(z) = \\sigma(z) = \\dfrac{1}{1+\\exp{(-z)}} $$\n",
    "        - 2) Hyperbolic Tangent Function\n",
    "        $$ \\tanh(z) = \\frac{\\sinh z}{\\cosh z} = \\frac{(e^z - e^{-z})/2}{(e^z + e^{-z})/2} = 2 \\sigma(2z) - 1$$\n",
    "        - 3) Error Function\n",
    "        $$ \\text{erf}(z) = \\frac{2}{\\sqrt\\pi}\\int_0^z e^{-t^2}\\,dt $$\n",
    "    - From my experience, the Logistic function is mostly used for the sigmoid function."
   ]
  },
  {
   "cell_type": "code",
   "execution_count": 2,
   "metadata": {},
   "outputs": [
    {
     "data": {
      "image/png": "[encoded data removed]",
      "text/plain": [
       "<Figure size 432x288 with 1 Axes>"
      ]
     },
     "metadata": {},
     "output_type": "display_data"
    }
   ],
   "source": [
    "xx = np.linspace(-5, 5, 1000)\n",
    "plt.plot(xx, 1/(1+np.exp(-xx)), 'r-', label=\"Logistic Function\")\n",
    "plt.plot(xx, np.tanh(xx), 'b--', label=\"Hyperbolic Tangent Function\")\n",
    "plt.plot(xx, sp.special.erf(0.5*np.sqrt(np.pi)*xx), 'g:', label=\"Error Function\")\n",
    "plt.ylim([-1.1, 1.1])\n",
    "plt.legend(loc=2)\n",
    "plt.xlabel(\"x\")\n",
    "plt.show()"
   ]
  },
  {
   "cell_type": "markdown",
   "metadata": {},
   "source": [
    "- **Let's look on the Logistic Function.**\n",
    "    - the logistic function is a function that converts a list of values (between -infinite, +infinite) to a list of values (between 0, 1).\n",
    "    - From the Bernoulli trial, a probability of $\\mu$ that having a 1, and a probability of 1 - $\\mu$ that having a 0 can be used for the \"odds ratio\" as below\n",
    " $$ \\text{odds ratio} = \\dfrac{\\mu}{1-\\mu} $$\n",
    "    - By converting $\\mu$ values (values between 0 to 1) to \"odds ratio\", the values will be converted 0 to $+\\infty$.\n",
    "    - Adding \"Log Function\" on the \"odds ratio\" is called **\"Logit Function**\".\n",
    "    - **Logit Function**\n",
    "         $$ z = \\text{logit}(\\text{odds ratio}) = \\log \\left(\\dfrac{\\mu}{1-\\mu}\\right) $$ \n",
    "        - the Logit Function's value will have a range as -$\\infty$ to +$\\infty$.\n",
    "        - the Logist\"ic\" function is an inverse function of logit function.\n",
    "    - **Logistic Function**\n",
    "        - Since it is an inverse function of Logit function, the values will be converted from (-$\\infty$, +$\\infty$) to [0,1].\n",
    "         $$ \\text{logitstic}(z) = \\mu(z) = \\dfrac{1}{1+\\exp{(-z)}} $$  \n",
    "        \n",
    "- **Decision Function**\n",
    "    - If we use Logistic Function $\\sigma(z)$, the relationship between $z$ and $\\mu$ will be explained as below,\n",
    "        - if $z = 0$, the $\\mu = 0.5\\; \\rightarrow$ can not be classified, 50% vs 50%\n",
    "        - if $z > 0$, the $\\mu > 0.5\\; \\rightarrow \\hat{y} = 1$\n",
    "        - if $z < 0$, the $\\mu < 0.5\\; \\rightarrow \\hat{y} = 0$\n",
    "    - $z$ take a role as a \"decision function\".\n",
    "     $$ z = w^Tx  $$\n",
    "    - As we could see, the decision boundary function is linear in logistic regression model.\n",
    "- **Parameter Estimation (Logistic Regression)**\n",
    "    - We are able to estimate the parameters of Logistic Regression Model by using \"Maximum Likelihood Estimation(MLE)\".\n",
    "    - Since the Logistic Regression assumes that the target value follows Binomial Distribution (If trial is N = 1, it follows Bernoulli DIstribution), we can express as below,\n",
    "     $$ p(y \\mid x) = \\text{Bern} (y;\\mu(x;w) ) = \\mu(x;w)^y ( 1 - \\mu(x;w) )^{1-y} $$\n",
    "    - we are going to replace the $\\mu$ with logistic function as previously mentioned.\n",
    "     $$\n",
    "\\mu(x;w) = \\dfrac{1}{1 + \\exp{(-w^Tx)}}\n",
    "$$\n",
    "     $$ \n",
    "    \\begin{eqnarray}\n",
    "    p(y \\mid x) \n",
    "    &=& \\left(  \\dfrac{1}{1 + \\exp{(-w^Tx)}} \\right) ^y \\left(  1 - \\dfrac{1}{1 + \\exp{(-w^Tx)}} \\right) ^{1-y} \\\\\n",
    "    &=& \\left(  \\dfrac{1}{1 + \\exp{(-w^Tx)}} \\right) ^y \\left( \\dfrac{\\exp{(-w^Tx)}}{1 + \\exp{(-w^Tx)}} \\right) ^{1-y} \\\\\n",
    "    \\end{eqnarray}\n",
    "    $$\n",
    "\n",
    "    - Let's find the Log Likelihood (LL)\n",
    "     $$\n",
    "\\begin{eqnarray}\n",
    "\\text{LL} \n",
    "&=& \\log \\prod_{i=1}^N \\mu(x_i;w)^{y_i} (1-\\mu(x_i;w))^{1-y_i} \\\\\n",
    "&=& \\sum_{i=1}^N \\left( y_i \\log\\mu(x_i;w) +  (1-y_i)\\log(1-\\mu(x_i;w)) \\right) \\\\\n",
    "&=& \\sum_{i=1}^N \\left( y_i \\log\\left(\\dfrac{1}{1 + \\exp{(-w^Tx_i)}}\\right) + (1-y_i)\\log\\left(\\dfrac{\\exp{(-w^Tx_i)}}{1 + \\exp{(-w^Tx_i)}}\\right) \\right) \\\\\n",
    "\\end{eqnarray}\n",
    "$$\n",
    "    - To find the w that maximizes LL, we need to differentiate the equation as below, \n",
    "         \n",
    "    $$ \\dfrac{\\partial\\text{LL}}{\\partial w}  = \\sum_{i=1}^N \\dfrac{\\partial\\text{LL}}{\\partial \\mu(x_i;w)} \\dfrac{\\partial\\mu(x_i;w)}{\\partial w} $$\n",
    "\n",
    "        - First of all, let's differentiate the $\\mu$ with $w$.\n",
    "            \n",
    "    $$ \n",
    "    \\dfrac{\\partial \\mu(x_i;w)}{\\partial w} \n",
    "    = \\dfrac{\\partial}{\\partial w} \\dfrac{1}{1 + \\exp{(-w^Tx_i)}} \\ \n",
    "    = \\dfrac{\\exp{(-w^Tx_i)}}{(1 + \\exp{(-w^Tx_i)})^2} x_i \\ \n",
    "    = \\mu(x_i;w)(1-\\mu(x_i;w)) x_i \n",
    "    $$\n",
    "        - Secondly, let's differentiate the LL with $u$\n",
    "             \n",
    "    $$\n",
    "    \\dfrac{\\partial\\text{LL}}{\\partial \\mu(x_i;w)} =  \\left( y_i \\dfrac{1}{\\mu(x_i;w)} - (1-y_i)\\dfrac{1}{1-\\mu(x_i;w)} \\right) \n",
    "    $$\n",
    "        - Now, let's multiply them all.\n",
    "            \n",
    "    $$ \n",
    "    \\begin{eqnarray}\n",
    "    \\dfrac{\\partial \\text{LL}}{\\partial w} \n",
    "    &=& \\sum_{i=1}^N \\left( y_i \\dfrac{1}{\\mu(x_i;w)} - (1-y_i)\\dfrac{1}{1-\\mu(x_i;w)} \\right) \\mu(x_i;w)(1-\\mu(x_i;w)) x_i   \\\\\n",
    "    &=& \\sum_{i=1}^N \\big( y_i (1-\\mu(x_i;w)) - (1-y_i)\\mu(x_i;w)  \\big)  x_i \\\\\n",
    "    &=& \\sum_{i=1}^N \\big( y_i  - \\mu(x_i;w) \\big) x_i \\\\\n",
    "    \\end{eqnarray}\n",
    "    $$\n",
    "    - Since this is non-linear function, we are unable to find an optimal $w$ by finding a $w$ that becomes a gradient is equal to zero. \n",
    "    - Therefore, we need to find an optimal $w$ by using **numerical optimization**.\n",
    "- **Numerical Optimization**\n",
    "    - Maximizing the Loglikelihood(LL) is minimizing the below objective function.\n",
    "         $$ J = -LL $$\n",
    "    - Let's use \"Steepest Gradient Descent\".\n",
    "        - gradient vector is\n",
    "             $$\n",
    "              g_k = \\dfrac{d}{dw}(-LL)\n",
    "              $$\n",
    "        - And, it moves step size of $\\eta_k$.\n",
    "        - Therefore,\n",
    "         $$\n",
    "\\begin{eqnarray}\n",
    "w_{k+1} \n",
    "&=& w_{k} - \\eta_k g_k \\\\\n",
    "&=& w_{k} + \\eta_k \\sum_{i=1}^N \\big( y_i  - \\mu(x_i; w_k) \\big) x_i\\\\\n",
    "\\end{eqnarray}\n",
    "$$\n",
    "- **Regularization**\n",
    "    - To prevent the over-fitting, we could add penalty like Lidge, Lasso, ElasticNet.\n",
    "    - For example, if we use Lidge Regularization, it will be as below,\n",
    "         $$ J = -\\text{LL} + \\lambda \\| w \\|^2 $$"
   ]
  },
  {
   "cell_type": "markdown",
   "metadata": {},
   "source": [
    "### - Read Data\n",
    "- original data has 3 features (independent varaibles), and the price_diff is a target value (dependent variable).\n",
    "- I have divided the original data set into three data sets as 1) train_data 2) test_data 3) oos_data\n",
    "    - train data: 617 samples (62.65%)\n",
    "    - test data: 238 samples (24.15%)\n",
    "    - oos data: 130 samples (13.20%)"
   ]
  },
  {
   "cell_type": "code",
   "execution_count": 3,
   "metadata": {},
   "outputs": [
    {
     "name": "stdout",
     "output_type": "stream",
     "text": [
      "# number of training samples:  617\n",
      "# number of test samples:  238\n",
      "# number of oos samples:  130\n"
     ]
    }
   ],
   "source": [
    "data = pd.read_excel('C:/Users/win/Desktop/DAT_SAMPLE.xlsx')\n",
    "data = data[data['price_diff'] != 0].reset_index(drop=True)\n",
    "\n",
    "train_data = data[data['date'] <= 20180331].reset_index(drop=True)\n",
    "test_data = data[(data['date'] >= 20180401) & (data['date'] <= 20190331)].reset_index(drop=True)\n",
    "oos_data = data[data['date'] >= 20190401].reset_index(drop=True)\n",
    "\n",
    "print('# number of training samples: ', len(train_data))\n",
    "print('# number of test samples: ', len(test_data))\n",
    "print('# number of oos samples: ', len(oos_data))"
   ]
  },
  {
   "cell_type": "code",
   "execution_count": 4,
   "metadata": {},
   "outputs": [
    {
     "data": {
      "text/html": [
       "<div>\n",
       "<style scoped>\n",
       "    .dataframe tbody tr th:only-of-type {\n",
       "        vertical-align: middle;\n",
       "    }\n",
       "\n",
       "    .dataframe tbody tr th {\n",
       "        vertical-align: top;\n",
       "    }\n",
       "\n",
       "    .dataframe thead th {\n",
       "        text-align: right;\n",
       "    }\n",
       "</style>\n",
       "<table border=\"1\" class=\"dataframe\">\n",
       "  <thead>\n",
       "    <tr style=\"text-align: right;\">\n",
       "      <th></th>\n",
       "      <th>date</th>\n",
       "      <th>feature_0</th>\n",
       "      <th>feature_s</th>\n",
       "      <th>feature_j</th>\n",
       "      <th>price_diff</th>\n",
       "    </tr>\n",
       "  </thead>\n",
       "  <tbody>\n",
       "    <tr>\n",
       "      <th>0</th>\n",
       "      <td>20150831</td>\n",
       "      <td>-1</td>\n",
       "      <td>-1</td>\n",
       "      <td>1</td>\n",
       "      <td>55</td>\n",
       "    </tr>\n",
       "    <tr>\n",
       "      <th>1</th>\n",
       "      <td>20150901</td>\n",
       "      <td>-1</td>\n",
       "      <td>-1</td>\n",
       "      <td>1</td>\n",
       "      <td>-150</td>\n",
       "    </tr>\n",
       "    <tr>\n",
       "      <th>2</th>\n",
       "      <td>20150902</td>\n",
       "      <td>-1</td>\n",
       "      <td>-1</td>\n",
       "      <td>1</td>\n",
       "      <td>345</td>\n",
       "    </tr>\n",
       "    <tr>\n",
       "      <th>3</th>\n",
       "      <td>20150903</td>\n",
       "      <td>1</td>\n",
       "      <td>1</td>\n",
       "      <td>1</td>\n",
       "      <td>-70</td>\n",
       "    </tr>\n",
       "    <tr>\n",
       "      <th>4</th>\n",
       "      <td>20150904</td>\n",
       "      <td>-1</td>\n",
       "      <td>-1</td>\n",
       "      <td>1</td>\n",
       "      <td>-235</td>\n",
       "    </tr>\n",
       "  </tbody>\n",
       "</table>\n",
       "</div>"
      ],
      "text/plain": [
       "       date  feature_0  feature_s  feature_j  price_diff\n",
       "0  20150831         -1         -1          1          55\n",
       "1  20150901         -1         -1          1        -150\n",
       "2  20150902         -1         -1          1         345\n",
       "3  20150903          1          1          1         -70\n",
       "4  20150904         -1         -1          1        -235"
      ]
     },
     "execution_count": 4,
     "metadata": {},
     "output_type": "execute_result"
    }
   ],
   "source": [
    "data.head()"
   ]
  },
  {
   "cell_type": "code",
   "execution_count": 5,
   "metadata": {},
   "outputs": [
    {
     "data": {
      "image/png": "[encoded data removed]",
      "text/plain": [
       "<Figure size 432x288 with 1 Axes>"
      ]
     },
     "metadata": {},
     "output_type": "display_data"
    }
   ],
   "source": [
    "plt.plot(data['price_diff'].cumsum())\n",
    "plt.title(\"Market's Total Return\")\n",
    "plt.show()"
   ]
  },
  {
   "cell_type": "markdown",
   "metadata": {},
   "source": [
    "## - Original Feature (feature_0) Result\n",
    "- 1) train\n",
    "- 2) test\n",
    "- 3) oos"
   ]
  },
  {
   "cell_type": "code",
   "execution_count": 6,
   "metadata": {},
   "outputs": [
    {
     "name": "stdout",
     "output_type": "stream",
     "text": [
      "########################### train Summary ###########################\n",
      "1. Total Profit:  11290\n",
      "2. Happy Rate:  54.1667 %\n",
      "3. Sharpe Ratio:  1.599\n",
      "4. MDD Amount : -1710\n",
      "5. MDD Length : 15\n",
      "###########################\n",
      "33\n",
      "23\n",
      "###########################\n",
      "38\n",
      "17\n",
      "###########################\n",
      "94\n",
      "88\n",
      "###########################\n",
      "160\n",
      "147\n"
     ]
    },
    {
     "data": {
      "image/png": "[encoded data removed]",
      "text/plain": [
       "<Figure size 576x360 with 1 Axes>"
      ]
     },
     "metadata": {},
     "output_type": "display_data"
    }
   ],
   "source": [
    "train_origin_feature_profits = []\n",
    "\n",
    "for i in range(len(train_data)):\n",
    "\n",
    "    origin_feature = train_data.iat[i, 1]\n",
    "    price_diff = train_data.iat[i,4]\n",
    "               \n",
    "    if origin_feature > 0:\n",
    "        train_origin_feature_profits.append(price_diff)\n",
    "    \n",
    "    elif origin_feature < 0:\n",
    "        train_origin_feature_profits.append(-price_diff)\n",
    "    \n",
    "    elif origin_feature == 0:\n",
    "        train_origin_feature_profits.append(0)\n",
    "    \n",
    "    else:\n",
    "        print('some thing wrong')\n",
    "        \n",
    "train_data['origin_feature_profits'] = train_origin_feature_profits\n",
    "\n",
    "win = len(train_data[train_data['origin_feature_profits'] > 0])\n",
    "lose = len(train_data[train_data['origin_feature_profits'] < 0])\n",
    "\n",
    "MDD_end_idx = (np.maximum.accumulate(train_data['origin_feature_profits'].cumsum()) - train_data['origin_feature_profits'].cumsum()).idxmax()\n",
    "MDD_start_idx = train_data['origin_feature_profits'].cumsum()[:MDD_end_idx].idxmax()\n",
    "\n",
    "MDD_amount = train_data['origin_feature_profits'].cumsum()[:MDD_start_idx + 1].iloc[-1] - train_data['origin_feature_profits'].cumsum()[:MDD_end_idx + 1].iloc[-1]\n",
    "\n",
    "print('########################### train Summary ###########################')\n",
    "print('1. Total Profit: ', np.sum(train_data['origin_feature_profits']))\n",
    "print('2. Happy Rate: ', round((win / (win + lose)) * 100, 4), '%')\n",
    "print('3. Sharpe Ratio: ', round((252**0.5) * (train_data['origin_feature_profits'].mean() / train_data['origin_feature_profits'].std()), 4))\n",
    "print('4. MDD Amount :', -int(MDD_amount))\n",
    "print('5. MDD Length :', MDD_end_idx - MDD_start_idx)\n",
    "\n",
    "train_origin_feature_profit = pd.DataFrame(train_origin_feature_profits, columns=['profit'])\n",
    "print('###########################')\n",
    "print(len(train_origin_feature_profit[train_origin_feature_profit['profit'] > 300]))\n",
    "print(len(train_origin_feature_profit[train_origin_feature_profit['profit'] < -300]))\n",
    "print('###########################')\n",
    "print(len(train_origin_feature_profit[(train_origin_feature_profit['profit'] > 200) & (train_origin_feature_profit['profit'] <= 300)]))\n",
    "print(len(train_origin_feature_profit[(train_origin_feature_profit['profit'] >= -300) & (train_origin_feature_profit['profit'] < -200)]))\n",
    "print('###########################')\n",
    "print(len(train_origin_feature_profit[(train_origin_feature_profit['profit'] > 100) & (train_origin_feature_profit['profit'] <= 200)]))\n",
    "print(len(train_origin_feature_profit[(train_origin_feature_profit['profit'] >= -200) & (train_origin_feature_profit['profit'] < -100)]))\n",
    "print('###########################')\n",
    "print(len(train_origin_feature_profit[(train_origin_feature_profit['profit'] > 0) & (train_origin_feature_profit['profit'] <= 100)]))\n",
    "print(len(train_origin_feature_profit[(train_origin_feature_profit['profit'] >= -100) & (train_origin_feature_profit['profit'] < -0)]))\n",
    "\n",
    "plt.figure(figsize=(8, 5))\n",
    "plt.title(\"Original Feature's Train Return\")\n",
    "plt.plot(train_data['origin_feature_profits'].cumsum())\n",
    "plt.axvline(train_data.index[MDD_start_idx], color='b', linestyle=':', linewidth=1)\n",
    "plt.axvline(train_data.index[MDD_end_idx], color='b', linestyle=':', linewidth=1)\n",
    "plt.show()"
   ]
  },
  {
   "cell_type": "code",
   "execution_count": 7,
   "metadata": {},
   "outputs": [
    {
     "name": "stdout",
     "output_type": "stream",
     "text": [
      "########################### test Summary ###########################\n",
      "1. Total Profit:  3215\n",
      "2. Happy Rate:  52.9915 %\n",
      "3. Sharpe Ratio:  1.0069\n",
      "4. MDD Amount : -1850\n",
      "5. MDD Length : 17\n",
      "###########################\n",
      "22\n",
      "15\n",
      "###########################\n",
      "19\n",
      "20\n",
      "###########################\n",
      "30\n",
      "33\n",
      "###########################\n",
      "53\n",
      "42\n"
     ]
    },
    {
     "data": {
      "image/png": "[encoded data removed]",
      "text/plain": [
       "<Figure size 576x360 with 1 Axes>"
      ]
     },
     "metadata": {},
     "output_type": "display_data"
    }
   ],
   "source": [
    "test_origin_feature_profits = []\n",
    "\n",
    "for i in range(len(test_data)):\n",
    "\n",
    "    origin_feature = test_data.iat[i, 1]\n",
    "    price_diff = test_data.iat[i,4]\n",
    "               \n",
    "    if origin_feature > 0:\n",
    "        test_origin_feature_profits.append(price_diff)\n",
    "    \n",
    "    elif origin_feature < 0:\n",
    "        test_origin_feature_profits.append(-price_diff)\n",
    "    \n",
    "    elif origin_feature == 0:\n",
    "        test_origin_feature_profits.append(0)\n",
    "    \n",
    "    else:\n",
    "        print('some thing wrong')\n",
    "        \n",
    "test_data['origin_feature_profits'] = test_origin_feature_profits\n",
    "\n",
    "win = len(test_data[test_data['origin_feature_profits'] > 0])\n",
    "lose = len(test_data[test_data['origin_feature_profits'] < 0])\n",
    "\n",
    "MDD_end_idx = (np.maximum.accumulate(test_data['origin_feature_profits'].cumsum()) - test_data['origin_feature_profits'].cumsum()).idxmax()\n",
    "MDD_start_idx = test_data['origin_feature_profits'].cumsum()[:MDD_end_idx].idxmax()\n",
    "\n",
    "MDD_amount = test_data['origin_feature_profits'].cumsum()[:MDD_start_idx + 1].iloc[-1] - test_data['origin_feature_profits'].cumsum()[:MDD_end_idx + 1].iloc[-1]\n",
    "\n",
    "print('########################### test Summary ###########################')\n",
    "print('1. Total Profit: ', np.sum(test_data['origin_feature_profits']))\n",
    "print('2. Happy Rate: ', round((win / (win + lose)) * 100, 4), '%')\n",
    "print('3. Sharpe Ratio: ', round((252**0.5) * (test_data['origin_feature_profits'].mean() / test_data['origin_feature_profits'].std()), 4))\n",
    "print('4. MDD Amount :', -int(MDD_amount))\n",
    "print('5. MDD Length :', MDD_end_idx - MDD_start_idx)\n",
    "\n",
    "\n",
    "test_origin_feature_profit = pd.DataFrame(test_origin_feature_profits, columns=['profit'])\n",
    "print('###########################')\n",
    "print(len(test_origin_feature_profit[test_origin_feature_profit['profit'] > 300]))\n",
    "print(len(test_origin_feature_profit[test_origin_feature_profit['profit'] < -300]))\n",
    "print('###########################')\n",
    "print(len(test_origin_feature_profit[(test_origin_feature_profit['profit'] > 200) & (test_origin_feature_profit['profit'] <= 300)]))\n",
    "print(len(test_origin_feature_profit[(test_origin_feature_profit['profit'] >= -300) & (test_origin_feature_profit['profit'] < -200)]))\n",
    "print('###########################')\n",
    "print(len(test_origin_feature_profit[(test_origin_feature_profit['profit'] > 100) & (test_origin_feature_profit['profit'] <= 200)]))\n",
    "print(len(test_origin_feature_profit[(test_origin_feature_profit['profit'] >= -200) & (test_origin_feature_profit['profit'] < -100)]))\n",
    "print('###########################')\n",
    "print(len(test_origin_feature_profit[(test_origin_feature_profit['profit'] > 0) & (test_origin_feature_profit['profit'] <= 100)]))\n",
    "print(len(test_origin_feature_profit[(test_origin_feature_profit['profit'] >= -100) & (test_origin_feature_profit['profit'] < -0)]))\n",
    "\n",
    "plt.figure(figsize=(8, 5))\n",
    "plt.title(\"Original Feature's Test Return\")\n",
    "plt.plot(test_data['origin_feature_profits'].cumsum())\n",
    "plt.axvline(test_data.index[MDD_start_idx], color='b', linestyle=':', linewidth=1)\n",
    "plt.axvline(test_data.index[MDD_end_idx], color='b', linestyle=':', linewidth=1)\n",
    "plt.show()"
   ]
  },
  {
   "cell_type": "code",
   "execution_count": 8,
   "metadata": {},
   "outputs": [
    {
     "name": "stdout",
     "output_type": "stream",
     "text": [
      "########################### oos Summary ###########################\n",
      "1. Total Profit:  2150\n",
      "2. Happy Rate:  51.6129 %\n",
      "3. Sharpe Ratio:  1.3783\n",
      "4. MDD Amount : -1750\n",
      "5. MDD Length : 23\n",
      "###########################\n",
      "10\n",
      "4\n",
      "###########################\n",
      "13\n",
      "8\n",
      "###########################\n",
      "10\n",
      "19\n",
      "###########################\n",
      "31\n",
      "29\n"
     ]
    },
    {
     "data": {
      "image/png": "[encoded data removed]",
      "text/plain": [
       "<Figure size 576x360 with 1 Axes>"
      ]
     },
     "metadata": {},
     "output_type": "display_data"
    }
   ],
   "source": [
    "oos_origin_feature_profits = []\n",
    "\n",
    "for i in range(len(oos_data)):\n",
    "\n",
    "    origin_feature = oos_data.iat[i, 1]\n",
    "    price_diff = oos_data.iat[i,4]\n",
    "               \n",
    "    if origin_feature > 0:\n",
    "        oos_origin_feature_profits.append(price_diff)\n",
    "    \n",
    "    elif origin_feature < 0:\n",
    "        oos_origin_feature_profits.append(-price_diff)\n",
    "    \n",
    "    elif origin_feature == 0:\n",
    "        oos_origin_feature_profits.append(0)\n",
    "    \n",
    "    else:\n",
    "        print('some thing wrong')\n",
    "        \n",
    "oos_data['origin_feature_profits'] = oos_origin_feature_profits\n",
    "\n",
    "win = len(oos_data[oos_data['origin_feature_profits'] > 0])\n",
    "lose = len(oos_data[oos_data['origin_feature_profits'] < 0])\n",
    "\n",
    "MDD_end_idx = (np.maximum.accumulate(oos_data['origin_feature_profits'].cumsum()) - oos_data['origin_feature_profits'].cumsum()).idxmax()\n",
    "MDD_start_idx = oos_data['origin_feature_profits'].cumsum()[:MDD_end_idx].idxmax()\n",
    "\n",
    "MDD_amount = oos_data['origin_feature_profits'].cumsum()[:MDD_start_idx + 1].iloc[-1] - oos_data['origin_feature_profits'].cumsum()[:MDD_end_idx + 1].iloc[-1]\n",
    "\n",
    "print('########################### oos Summary ###########################')\n",
    "print('1. Total Profit: ', np.sum(oos_data['origin_feature_profits']))\n",
    "print('2. Happy Rate: ', round((win / (win + lose)) * 100, 4), '%')\n",
    "print('3. Sharpe Ratio: ', round((252**0.5) * (oos_data['origin_feature_profits'].mean() / oos_data['origin_feature_profits'].std()), 4))\n",
    "print('4. MDD Amount :', -int(MDD_amount))\n",
    "print('5. MDD Length :', MDD_end_idx - MDD_start_idx)\n",
    "\n",
    "oos_origin_feature_profit = pd.DataFrame(oos_origin_feature_profits, columns=['profit'])\n",
    "print('###########################')\n",
    "print(len(oos_origin_feature_profit[oos_origin_feature_profit['profit'] > 300]))\n",
    "print(len(oos_origin_feature_profit[oos_origin_feature_profit['profit'] < -300]))\n",
    "print('###########################')\n",
    "print(len(oos_origin_feature_profit[(oos_origin_feature_profit['profit'] > 200) & (oos_origin_feature_profit['profit'] <= 300)]))\n",
    "print(len(oos_origin_feature_profit[(oos_origin_feature_profit['profit'] >= -300) & (oos_origin_feature_profit['profit'] < -200)]))\n",
    "print('###########################')\n",
    "print(len(oos_origin_feature_profit[(oos_origin_feature_profit['profit'] > 100) & (oos_origin_feature_profit['profit'] <= 200)]))\n",
    "print(len(oos_origin_feature_profit[(oos_origin_feature_profit['profit'] >= -200) & (oos_origin_feature_profit['profit'] < -100)]))\n",
    "print('###########################')\n",
    "print(len(oos_origin_feature_profit[(oos_origin_feature_profit['profit'] > 0) & (oos_origin_feature_profit['profit'] <= 100)]))\n",
    "print(len(oos_origin_feature_profit[(oos_origin_feature_profit['profit'] >= -100) & (oos_origin_feature_profit['profit'] < -0)]))\n",
    "\n",
    "plt.figure(figsize=(8, 5))\n",
    "plt.title(\"Original Feature's OOS Return\")\n",
    "plt.plot(oos_data['origin_feature_profits'].cumsum())\n",
    "plt.axvline(oos_data.index[MDD_start_idx], color='b', linestyle=':', linewidth=1)\n",
    "plt.axvline(oos_data.index[MDD_end_idx], color='b', linestyle=':', linewidth=1)\n",
    "plt.show()"
   ]
  },
  {
   "cell_type": "markdown",
   "metadata": {},
   "source": [
    "## - ML Model Build-up Stage (Logistic Regression)\n",
    "- 0) **Data Exploration**\n",
    "- 1) **Label Tunning**\n",
    "    - a) Numeric labels -> categorical labels (since I have assumed that I have categorical labels, I have converted it from numerical to categorical)\n",
    "        - origin label: price_diff (numeric values)\n",
    "            - example: data['price_diff'] = [55, -150, 345, -70, ..., -50, -70, 340]\n",
    "            - Since my goal is to predict a big movement of price_diff, I would like to convert labels as below,\n",
    "                - 1 (category): 0 < target <= 100  \n",
    "                - 2 (category): 100 < target <= 200\n",
    "                - 3 (category): 200 < target\n",
    "                - -1 (category): -100 <= target < 0\n",
    "                - -2 (category): -200 <= target < -100\n",
    "                - -3 (category): target < -200\n",
    "    - b) OvR (One-vs-Rest) for the multi-class labels.\n",
    "        - Since the labels have 6 classes, the OvR will be needed.\n",
    "- 2) **Sample Weight Balancing**\n",
    "    - The classes are imbalanced. (it is a nature of market)\n",
    "    - Therefore, I would like to use \"over-sampling method\" for the balancing purpose.\n",
    "        - Since the features are categorical variables, the SMOTENC will be applied for the over-sampling."
   ]
  },
  {
   "cell_type": "markdown",
   "metadata": {},
   "source": [
    "### - Label Converting (Numerical to Categorical)"
   ]
  },
  {
   "cell_type": "code",
   "execution_count": 9,
   "metadata": {},
   "outputs": [
    {
     "name": "stdout",
     "output_type": "stream",
     "text": [
      "##############################\n",
      "feature_0    category\n",
      "feature_s    category\n",
      "feature_j    category\n",
      "dtype: object\n",
      "##############################\n",
      "1     166\n",
      "-1    152\n",
      "2      95\n",
      "-2     90\n",
      "3      66\n",
      "-3     48\n",
      "Name: new_label, dtype: int64\n",
      "##############################\n"
     ]
    }
   ],
   "source": [
    "new_label = []\n",
    "\n",
    "for i in range(len(data['price_diff'])):\n",
    "    \n",
    "    price_diff = data.iat[i, 4]\n",
    "    \n",
    "    if (price_diff > 0) and (price_diff <= 100):\n",
    "        new_label.append('1')\n",
    "    elif (price_diff > 100) and (price_diff <= 200):\n",
    "        new_label.append('2')\n",
    "    elif (price_diff > 200):\n",
    "        new_label.append('3')\n",
    "        \n",
    "    elif (price_diff < 0) and (price_diff >= -100):\n",
    "        new_label.append('-1')\n",
    "    elif (price_diff < -100) and (price_diff >= -200):\n",
    "        new_label.append('-2')\n",
    "    elif (price_diff < -200):\n",
    "        new_label.append('-3')\n",
    "        \n",
    "data['new_label'] = new_label\n",
    "\n",
    "train_data = data[data['date'] <= 20180331].reset_index(drop=True)\n",
    "test_data = data[(data['date'] >= 20180401) & (data['date'] <= 20190331)].reset_index(drop=True)\n",
    "oos_data = data[data['date'] >= 20190401].reset_index(drop=True)\n",
    "\n",
    "X_train = train_data.iloc[:, [1,2,3]].astype('category')\n",
    "y_train = train_data.iloc[:, 5].astype('category')\n",
    "\n",
    "X_test = test_data.iloc[:, [1,2,3]].astype('category')\n",
    "y_test = test_data.iloc[:, 5].astype('category')\n",
    "\n",
    "X_oos = oos_data.iloc[:, [1,2,3]].astype('category')\n",
    "y_oos = oos_data.iloc[:, 5].astype('category')\n",
    "\n",
    "print('##############################')\n",
    "print(X_train.dtypes)\n",
    "print('##############################')\n",
    "print(y_train.value_counts())\n",
    "print('##############################')"
   ]
  },
  {
   "cell_type": "code",
   "execution_count": 10,
   "metadata": {
    "scrolled": true
   },
   "outputs": [
    {
     "data": {
      "image/png": "[encoded data removed]",
      "text/plain": [
       "<Figure size 432x288 with 1 Axes>"
      ]
     },
     "metadata": {},
     "output_type": "display_data"
    }
   ],
   "source": [
    "import seaborn as sns\n",
    "sns.countplot(x=y_train, palette='hls')\n",
    "plt.show()"
   ]
  },
  {
   "cell_type": "code",
   "execution_count": 11,
   "metadata": {},
   "outputs": [
    {
     "name": "stdout",
     "output_type": "stream",
     "text": [
      "# Bull Market's day:  519 days\n",
      "# Bear Market's day:  466 days\n"
     ]
    }
   ],
   "source": [
    "print(\"# Bull Market's day: \", len(data[data['price_diff'] > 0]), 'days')\n",
    "print(\"# Bear Market's day: \", len(data[data['price_diff'] < 0]), 'days')"
   ]
  },
  {
   "cell_type": "markdown",
   "metadata": {},
   "source": [
    "### - Apply the SMOTENC (Over-sampling) to make it balanced."
   ]
  },
  {
   "cell_type": "code",
   "execution_count": 12,
   "metadata": {
    "scrolled": true
   },
   "outputs": [
    {
     "name": "stdout",
     "output_type": "stream",
     "text": [
      "##############################\n",
      "0    category\n",
      "1    category\n",
      "2    category\n",
      "dtype: object\n",
      "##############################\n",
      "1     166\n",
      "-3    166\n",
      "3     166\n",
      "-2    166\n",
      "2     166\n",
      "-1    166\n",
      "dtype: int64\n",
      "##############################\n"
     ]
    }
   ],
   "source": [
    "from imblearn.over_sampling import SMOTENC\n",
    "\n",
    "os_X_train, os_y_train = SMOTENC(random_state=0,\n",
    "                                 categorical_features=[0,2]).fit_sample(X_train, y_train)\n",
    "\n",
    "os_X_train = pd.DataFrame(os_X_train).astype('category')\n",
    "\n",
    "print('##############################')\n",
    "print(pd.DataFrame(os_X_train).dtypes)\n",
    "print('##############################')\n",
    "print(pd.Series(os_y_train).value_counts())\n",
    "print('##############################')"
   ]
  },
  {
   "cell_type": "code",
   "execution_count": 13,
   "metadata": {},
   "outputs": [
    {
     "data": {
      "image/png": "[encoded data removed]",
      "text/plain": [
       "<Figure size 432x288 with 1 Axes>"
      ]
     },
     "metadata": {},
     "output_type": "display_data"
    }
   ],
   "source": [
    "sns.countplot(x=os_y_train, palette='hls')\n",
    "plt.show()"
   ]
  },
  {
   "cell_type": "markdown",
   "metadata": {},
   "source": [
    "### - Apply the OvR (One-vs-Rest) for the multi-class labels and fit the data into the model.\n",
    "- Model can be tunned by \n",
    "    - 1) changing a regularization level (method: *C*).\n",
    "        - Default C == 1.0\n",
    "        - Below 1.0 of C => hard on regularization (Could reduce the over-fitting, but lower your accuracy, precision, and etc from train data set)\n",
    "        - Above 1.0 of C => easy on regularization (Could cause an over-fitting, but you could make accuracy, precision better in train set)\n",
    "    - 2) changing class weights (method: *class_weight*)\n",
    "    - 3) chaning solvers (method: *solver*)"
   ]
  },
  {
   "cell_type": "code",
   "execution_count": 14,
   "metadata": {},
   "outputs": [
    {
     "name": "stderr",
     "output_type": "stream",
     "text": [
      "C:\\Users\\Jay\\lib\\site-packages\\sklearn\\linear_model\\logistic.py:432: FutureWarning: Default solver will be changed to 'lbfgs' in 0.22. Specify a solver to silence this warning.\n",
      "  FutureWarning)\n"
     ]
    }
   ],
   "source": [
    "Logistic_Regression_model_ovr = LogisticRegression(multi_class='ovr').fit(os_X_train, os_y_train)"
   ]
  },
  {
   "cell_type": "code",
   "execution_count": 15,
   "metadata": {},
   "outputs": [
    {
     "name": "stdout",
     "output_type": "stream",
     "text": [
      "############# Classification Report #############\n",
      "              precision    recall  f1-score   support\n",
      "\n",
      "          -1       0.00      0.00      0.00       166\n",
      "          -2       0.00      0.00      0.00       166\n",
      "          -3       0.27      0.63      0.38       166\n",
      "           1       0.50      0.03      0.06       166\n",
      "           2       0.22      0.36      0.27       166\n",
      "           3       0.25      0.51      0.33       166\n",
      "\n",
      "    accuracy                           0.25       996\n",
      "   macro avg       0.21      0.25      0.17       996\n",
      "weighted avg       0.21      0.25      0.17       996\n",
      "\n",
      "############# Below is the predicted values #############\n",
      "-3    379\n",
      "3     337\n",
      "2     270\n",
      "1      10\n",
      "dtype: int64\n"
     ]
    },
    {
     "name": "stderr",
     "output_type": "stream",
     "text": [
      "C:\\Users\\Jay\\lib\\site-packages\\sklearn\\metrics\\classification.py:1437: UndefinedMetricWarning: Precision and F-score are ill-defined and being set to 0.0 in labels with no predicted samples.\n",
      "  'precision', 'predicted', average, warn_for)\n",
      "C:\\Users\\Jay\\lib\\site-packages\\sklearn\\metrics\\classification.py:1437: UndefinedMetricWarning: Precision and F-score are ill-defined and being set to 0.0 in labels with no predicted samples.\n",
      "  'precision', 'predicted', average, warn_for)\n",
      "C:\\Users\\Jay\\lib\\site-packages\\sklearn\\metrics\\classification.py:1437: UndefinedMetricWarning: Precision and F-score are ill-defined and being set to 0.0 in labels with no predicted samples.\n",
      "  'precision', 'predicted', average, warn_for)\n"
     ]
    }
   ],
   "source": [
    "print('############# Classification Report #############')\n",
    "print(classification_report(os_y_train, Logistic_Regression_model_ovr.predict(os_X_train)))\n",
    "print('############# Below is the predicted values #############')\n",
    "print(pd.Series(Logistic_Regression_model_ovr.predict(os_X_train)).value_counts())"
   ]
  },
  {
   "cell_type": "markdown",
   "metadata": {},
   "source": [
    "### - Quick Thoughts\n",
    "- According to the above result,should I interpret that the model can classify well on the '-3' category and '+3' category?\n",
    "    - If it reall does, then I could try to use it on the option products.\n",
    "    - Need to analyze more in depth.\n",
    "- This model didn't predict '-2', '-1' class at all, and only 10 target values were predicted on '+1' class.\n",
    "- How should I interpret that?\n",
    "    - Let's take a look at the Logistic Regression's Summary by using **\"StatsModels\"**.\n",
    "        - As we know, there are two major packages on the ML subjects.\n",
    "            - 1) Scikit Learn\n",
    "                - Mostly, we use Scikit Learn's Logistic Regression due to easiness.\n",
    "            - 2) StatsModels\n",
    "                 - StatsModels provide Summary Report, but a little bit more complex than scikit learn.\n",
    "                 - Since it supports the Summary Report, we can have a better understanding of the model.\n",
    "                 - Need to add constant vector."
   ]
  },
  {
   "cell_type": "markdown",
   "metadata": {},
   "source": [
    "### - StatsModel used\n",
    "- Since it is a multi-label classification problem, i have to print summary 6 times. \n",
    "    - '-3' Summary\n",
    "    - '-2' Summary\n",
    "    - '-1' Summary\n",
    "    - '+1' Summary\n",
    "    - '+2' Summary\n",
    "    - '+3' Summary"
   ]
  },
  {
   "cell_type": "code",
   "execution_count": 16,
   "metadata": {},
   "outputs": [
    {
     "data": {
      "text/html": [
       "<div>\n",
       "<style scoped>\n",
       "    .dataframe tbody tr th:only-of-type {\n",
       "        vertical-align: middle;\n",
       "    }\n",
       "\n",
       "    .dataframe tbody tr th {\n",
       "        vertical-align: top;\n",
       "    }\n",
       "\n",
       "    .dataframe thead th {\n",
       "        text-align: right;\n",
       "    }\n",
       "</style>\n",
       "<table border=\"1\" class=\"dataframe\">\n",
       "  <thead>\n",
       "    <tr style=\"text-align: right;\">\n",
       "      <th></th>\n",
       "      <th>feature_0</th>\n",
       "      <th>feature_s</th>\n",
       "      <th>feature_j</th>\n",
       "      <th>new_label</th>\n",
       "    </tr>\n",
       "  </thead>\n",
       "  <tbody>\n",
       "    <tr>\n",
       "      <th>0</th>\n",
       "      <td>-1</td>\n",
       "      <td>-1</td>\n",
       "      <td>1</td>\n",
       "      <td>1</td>\n",
       "    </tr>\n",
       "    <tr>\n",
       "      <th>1</th>\n",
       "      <td>-1</td>\n",
       "      <td>-1</td>\n",
       "      <td>1</td>\n",
       "      <td>-2</td>\n",
       "    </tr>\n",
       "    <tr>\n",
       "      <th>2</th>\n",
       "      <td>-1</td>\n",
       "      <td>-1</td>\n",
       "      <td>1</td>\n",
       "      <td>3</td>\n",
       "    </tr>\n",
       "    <tr>\n",
       "      <th>3</th>\n",
       "      <td>1</td>\n",
       "      <td>1</td>\n",
       "      <td>1</td>\n",
       "      <td>-1</td>\n",
       "    </tr>\n",
       "    <tr>\n",
       "      <th>4</th>\n",
       "      <td>-1</td>\n",
       "      <td>-1</td>\n",
       "      <td>1</td>\n",
       "      <td>-3</td>\n",
       "    </tr>\n",
       "  </tbody>\n",
       "</table>\n",
       "</div>"
      ],
      "text/plain": [
       "   feature_0  feature_s  feature_j new_label\n",
       "0         -1         -1          1         1\n",
       "1         -1         -1          1        -2\n",
       "2         -1         -1          1         3\n",
       "3          1          1          1        -1\n",
       "4         -1         -1          1        -3"
      ]
     },
     "execution_count": 16,
     "metadata": {},
     "output_type": "execute_result"
    }
   ],
   "source": [
    "stats_data = data.iloc[:, [1,2,3,5]]\n",
    "stats_data.head()"
   ]
  },
  {
   "cell_type": "markdown",
   "metadata": {},
   "source": [
    "#### - '-3' Class Summary Report"
   ]
  },
  {
   "cell_type": "code",
   "execution_count": 17,
   "metadata": {
    "scrolled": false
   },
   "outputs": [
    {
     "name": "stdout",
     "output_type": "stream",
     "text": [
      "                           Logit Regression Results                           \n",
      "==============================================================================\n",
      "Dep. Variable:              new_label   No. Observations:                  985\n",
      "Model:                          Logit   Df Residuals:                      981\n",
      "Method:                           MLE   Df Model:                            3\n",
      "Date:                Sat, 26 Oct 2019   Pseudo R-squ.:                 0.03088\n",
      "Time:                        09:50:16   Log-Likelihood:                -325.99\n",
      "converged:                       True   LL-Null:                       -336.38\n",
      "                                        LLR p-value:                 0.0001172\n",
      "==============================================================================\n",
      "                 coef    std err          z      P>|z|      [0.025      0.975]\n",
      "------------------------------------------------------------------------------\n",
      "const         -2.1188      0.106    -19.949      0.000      -2.327      -1.911\n",
      "feature_0     -0.3129      0.129     -2.427      0.015      -0.566      -0.060\n",
      "feature_s      0.1525      0.137      1.117      0.264      -0.115       0.420\n",
      "feature_j     -0.3624      0.123     -2.958      0.003      -0.602      -0.122\n",
      "==============================================================================\n"
     ]
    },
    {
     "name": "stderr",
     "output_type": "stream",
     "text": [
      "C:\\Users\\Jay\\lib\\site-packages\\ipykernel_launcher.py:1: SettingWithCopyWarning: \n",
      "A value is trying to be set on a copy of a slice from a DataFrame.\n",
      "Try using .loc[row_indexer,col_indexer] = value instead\n",
      "\n",
      "See the caveats in the documentation: http://pandas.pydata.org/pandas-docs/stable/indexing.html#indexing-view-versus-copy\n",
      "  \"\"\"Entry point for launching an IPython kernel.\n",
      "C:\\Users\\Jay\\lib\\site-packages\\ipykernel_launcher.py:2: SettingWithCopyWarning: \n",
      "A value is trying to be set on a copy of a slice from a DataFrame.\n",
      "Try using .loc[row_indexer,col_indexer] = value instead\n",
      "\n",
      "See the caveats in the documentation: http://pandas.pydata.org/pandas-docs/stable/indexing.html#indexing-view-versus-copy\n",
      "  \n"
     ]
    }
   ],
   "source": [
    "tmp_0 = stats_data[stats_data['new_label'] == '-3']; tmp_0['new_label'] = '1'\n",
    "tmp_1 = stats_data[stats_data['new_label'] != '-3']; tmp_1['new_label'] = '0'\n",
    "tmp_2 = pd.concat([tmp_0, tmp_1], axis=0).sort_index()\n",
    "\n",
    "stats_data_minus_3_class_X = sm.add_constant(tmp_2.iloc[:, [0,1,2]]).astype(int)\n",
    "stats_data_minus_3_class_y = tmp_2['new_label'].astype(int)\n",
    "\n",
    "logit_mod_minus_3_class = sm.Logit(stats_data_minus_3_class_y, stats_data_minus_3_class_X)\n",
    "logit_res_minus_3_class = logit_mod_minus_3_class.fit(disp=0)\n",
    "print(logit_res_minus_3_class.summary())"
   ]
  },
  {
   "cell_type": "markdown",
   "metadata": {},
   "source": [
    "#### - '-2' Class Summary Report"
   ]
  },
  {
   "cell_type": "code",
   "execution_count": 18,
   "metadata": {},
   "outputs": [
    {
     "name": "stderr",
     "output_type": "stream",
     "text": [
      "C:\\Users\\Jay\\lib\\site-packages\\ipykernel_launcher.py:1: SettingWithCopyWarning: \n",
      "A value is trying to be set on a copy of a slice from a DataFrame.\n",
      "Try using .loc[row_indexer,col_indexer] = value instead\n",
      "\n",
      "See the caveats in the documentation: http://pandas.pydata.org/pandas-docs/stable/indexing.html#indexing-view-versus-copy\n",
      "  \"\"\"Entry point for launching an IPython kernel.\n"
     ]
    },
    {
     "name": "stdout",
     "output_type": "stream",
     "text": [
      "                           Logit Regression Results                           \n",
      "==============================================================================\n",
      "Dep. Variable:              new_label   No. Observations:                  985\n",
      "Model:                          Logit   Df Residuals:                      981\n",
      "Method:                           MLE   Df Model:                            3\n",
      "Date:                Sat, 26 Oct 2019   Pseudo R-squ.:               0.0002597\n",
      "Time:                        09:50:16   Log-Likelihood:                -397.15\n",
      "converged:                       True   LL-Null:                       -397.25\n",
      "                                        LLR p-value:                    0.9766\n",
      "==============================================================================\n",
      "                 coef    std err          z      P>|z|      [0.025      0.975]\n",
      "------------------------------------------------------------------------------\n",
      "const         -1.8166      0.093    -19.444      0.000      -2.000      -1.634\n",
      "feature_0     -0.0222      0.113     -0.197      0.844      -0.243       0.199\n",
      "feature_s      0.0496      0.118      0.419      0.675      -0.182       0.281\n",
      "feature_j     -0.0326      0.108     -0.302      0.763      -0.245       0.179\n",
      "==============================================================================\n"
     ]
    },
    {
     "name": "stderr",
     "output_type": "stream",
     "text": [
      "C:\\Users\\Jay\\lib\\site-packages\\ipykernel_launcher.py:2: SettingWithCopyWarning: \n",
      "A value is trying to be set on a copy of a slice from a DataFrame.\n",
      "Try using .loc[row_indexer,col_indexer] = value instead\n",
      "\n",
      "See the caveats in the documentation: http://pandas.pydata.org/pandas-docs/stable/indexing.html#indexing-view-versus-copy\n",
      "  \n"
     ]
    }
   ],
   "source": [
    "tmp_0 = stats_data[stats_data['new_label'] == '-2']; tmp_0['new_label'] = '1'\n",
    "tmp_1 = stats_data[stats_data['new_label'] != '-2']; tmp_1['new_label'] = '0'\n",
    "tmp_2 = pd.concat([tmp_0, tmp_1], axis=0).sort_index()\n",
    "\n",
    "stats_data_minus_2_class_X = sm.add_constant(tmp_2.iloc[:, [0,1,2]]).astype(int)\n",
    "stats_data_minus_2_class_y = tmp_2['new_label'].astype(int)\n",
    "\n",
    "logit_mod_minus_2_class = sm.Logit(stats_data_minus_2_class_y, stats_data_minus_2_class_X)\n",
    "logit_res_minus_2_class = logit_mod_minus_2_class.fit(disp=0)\n",
    "print(logit_res_minus_2_class.summary())"
   ]
  },
  {
   "cell_type": "markdown",
   "metadata": {},
   "source": [
    "#### - '-1' Class Summary Report"
   ]
  },
  {
   "cell_type": "code",
   "execution_count": 19,
   "metadata": {
    "scrolled": false
   },
   "outputs": [
    {
     "name": "stdout",
     "output_type": "stream",
     "text": [
      "                           Logit Regression Results                           \n",
      "==============================================================================\n",
      "Dep. Variable:              new_label   No. Observations:                  985\n",
      "Model:                          Logit   Df Residuals:                      981\n",
      "Method:                           MLE   Df Model:                            3\n",
      "Date:                Sat, 26 Oct 2019   Pseudo R-squ.:                0.004826\n",
      "Time:                        09:50:16   Log-Likelihood:                -524.32\n",
      "converged:                       True   LL-Null:                       -526.86\n",
      "                                        LLR p-value:                    0.1656\n",
      "==============================================================================\n",
      "                 coef    std err          z      P>|z|      [0.025      0.975]\n",
      "------------------------------------------------------------------------------\n",
      "const         -1.2672      0.079    -15.972      0.000      -1.423      -1.112\n",
      "feature_0      0.0346      0.093      0.371      0.711      -0.148       0.217\n",
      "feature_s     -0.1610      0.097     -1.658      0.097      -0.351       0.029\n",
      "feature_j      0.1816      0.090      2.011      0.044       0.005       0.359\n",
      "==============================================================================\n"
     ]
    },
    {
     "name": "stderr",
     "output_type": "stream",
     "text": [
      "C:\\Users\\Jay\\lib\\site-packages\\ipykernel_launcher.py:1: SettingWithCopyWarning: \n",
      "A value is trying to be set on a copy of a slice from a DataFrame.\n",
      "Try using .loc[row_indexer,col_indexer] = value instead\n",
      "\n",
      "See the caveats in the documentation: http://pandas.pydata.org/pandas-docs/stable/indexing.html#indexing-view-versus-copy\n",
      "  \"\"\"Entry point for launching an IPython kernel.\n",
      "C:\\Users\\Jay\\lib\\site-packages\\ipykernel_launcher.py:2: SettingWithCopyWarning: \n",
      "A value is trying to be set on a copy of a slice from a DataFrame.\n",
      "Try using .loc[row_indexer,col_indexer] = value instead\n",
      "\n",
      "See the caveats in the documentation: http://pandas.pydata.org/pandas-docs/stable/indexing.html#indexing-view-versus-copy\n",
      "  \n"
     ]
    }
   ],
   "source": [
    "tmp_0 = stats_data[stats_data['new_label'] == '-1']; tmp_0['new_label'] = '1'\n",
    "tmp_1 = stats_data[stats_data['new_label'] != '-1']; tmp_1['new_label'] = '0'\n",
    "tmp_2 = pd.concat([tmp_0, tmp_1], axis=0).sort_index()\n",
    "\n",
    "stats_data_minus_1_class_X = sm.add_constant(tmp_2.iloc[:, [0,1,2]]).astype(int)\n",
    "stats_data_minus_1_class_y = tmp_2['new_label'].astype(int)\n",
    "\n",
    "logit_mod_minus_1_class = sm.Logit(stats_data_minus_1_class_y, stats_data_minus_1_class_X)\n",
    "logit_res_minus_1_class = logit_mod_minus_1_class.fit(disp=0)\n",
    "print(logit_res_minus_1_class.summary())"
   ]
  },
  {
   "cell_type": "markdown",
   "metadata": {},
   "source": [
    "#### - '+1' Class Summary Report"
   ]
  },
  {
   "cell_type": "code",
   "execution_count": 20,
   "metadata": {},
   "outputs": [
    {
     "name": "stdout",
     "output_type": "stream",
     "text": [
      "                           Logit Regression Results                           \n",
      "==============================================================================\n",
      "Dep. Variable:              new_label   No. Observations:                  985\n",
      "Model:                          Logit   Df Residuals:                      981\n",
      "Method:                           MLE   Df Model:                            3\n",
      "Date:                Sat, 26 Oct 2019   Pseudo R-squ.:                0.004823\n",
      "Time:                        09:50:16   Log-Likelihood:                -559.54\n",
      "converged:                       True   LL-Null:                       -562.25\n",
      "                                        LLR p-value:                    0.1433\n",
      "==============================================================================\n",
      "                 coef    std err          z      P>|z|      [0.025      0.975]\n",
      "------------------------------------------------------------------------------\n",
      "const         -1.0920      0.076    -14.429      0.000      -1.240      -0.944\n",
      "feature_0      0.1096      0.090      1.221      0.222      -0.066       0.286\n",
      "feature_s     -0.0214      0.093     -0.230      0.818      -0.204       0.161\n",
      "feature_j      0.1159      0.086      1.341      0.180      -0.054       0.285\n",
      "==============================================================================\n"
     ]
    },
    {
     "name": "stderr",
     "output_type": "stream",
     "text": [
      "C:\\Users\\Jay\\lib\\site-packages\\ipykernel_launcher.py:1: SettingWithCopyWarning: \n",
      "A value is trying to be set on a copy of a slice from a DataFrame.\n",
      "Try using .loc[row_indexer,col_indexer] = value instead\n",
      "\n",
      "See the caveats in the documentation: http://pandas.pydata.org/pandas-docs/stable/indexing.html#indexing-view-versus-copy\n",
      "  \"\"\"Entry point for launching an IPython kernel.\n",
      "C:\\Users\\Jay\\lib\\site-packages\\ipykernel_launcher.py:2: SettingWithCopyWarning: \n",
      "A value is trying to be set on a copy of a slice from a DataFrame.\n",
      "Try using .loc[row_indexer,col_indexer] = value instead\n",
      "\n",
      "See the caveats in the documentation: http://pandas.pydata.org/pandas-docs/stable/indexing.html#indexing-view-versus-copy\n",
      "  \n"
     ]
    }
   ],
   "source": [
    "tmp_0 = stats_data[stats_data['new_label'] == '1']; tmp_0['new_label'] = '1'\n",
    "tmp_1 = stats_data[stats_data['new_label'] != '1']; tmp_1['new_label'] = '0'\n",
    "tmp_2 = pd.concat([tmp_0, tmp_1], axis=0).sort_index()\n",
    "\n",
    "stats_data_plus_1_class_X = sm.add_constant(tmp_2.iloc[:, [0,1,2]]).astype(int)\n",
    "stats_data_plus_1_class_y = tmp_2['new_label'].astype(int)\n",
    "\n",
    "logit_mod_plus_1_class = sm.Logit(stats_data_plus_1_class_y, stats_data_plus_1_class_X)\n",
    "logit_res_plus_1_class = logit_mod_plus_1_class.fit(disp=0)\n",
    "print(logit_res_plus_1_class.summary())"
   ]
  },
  {
   "cell_type": "markdown",
   "metadata": {},
   "source": [
    "#### - '+2' Class Summary Report"
   ]
  },
  {
   "cell_type": "code",
   "execution_count": 21,
   "metadata": {
    "scrolled": false
   },
   "outputs": [
    {
     "name": "stdout",
     "output_type": "stream",
     "text": [
      "                           Logit Regression Results                           \n",
      "==============================================================================\n",
      "Dep. Variable:              new_label   No. Observations:                  985\n",
      "Model:                          Logit   Df Residuals:                      981\n",
      "Method:                           MLE   Df Model:                            3\n",
      "Date:                Sat, 26 Oct 2019   Pseudo R-squ.:                0.001988\n",
      "Time:                        09:50:16   Log-Likelihood:                -405.45\n",
      "converged:                       True   LL-Null:                       -406.26\n",
      "                                        LLR p-value:                    0.6560\n",
      "==============================================================================\n",
      "                 coef    std err          z      P>|z|      [0.025      0.975]\n",
      "------------------------------------------------------------------------------\n",
      "const         -1.7933      0.093    -19.233      0.000      -1.976      -1.611\n",
      "feature_0     -0.0172      0.111     -0.156      0.876      -0.234       0.199\n",
      "feature_s     -0.1229      0.116     -1.061      0.289      -0.350       0.104\n",
      "feature_j      0.0615      0.106      0.580      0.562      -0.147       0.270\n",
      "==============================================================================\n"
     ]
    },
    {
     "name": "stderr",
     "output_type": "stream",
     "text": [
      "C:\\Users\\Jay\\lib\\site-packages\\ipykernel_launcher.py:1: SettingWithCopyWarning: \n",
      "A value is trying to be set on a copy of a slice from a DataFrame.\n",
      "Try using .loc[row_indexer,col_indexer] = value instead\n",
      "\n",
      "See the caveats in the documentation: http://pandas.pydata.org/pandas-docs/stable/indexing.html#indexing-view-versus-copy\n",
      "  \"\"\"Entry point for launching an IPython kernel.\n",
      "C:\\Users\\Jay\\lib\\site-packages\\ipykernel_launcher.py:2: SettingWithCopyWarning: \n",
      "A value is trying to be set on a copy of a slice from a DataFrame.\n",
      "Try using .loc[row_indexer,col_indexer] = value instead\n",
      "\n",
      "See the caveats in the documentation: http://pandas.pydata.org/pandas-docs/stable/indexing.html#indexing-view-versus-copy\n",
      "  \n"
     ]
    }
   ],
   "source": [
    "tmp_0 = stats_data[stats_data['new_label'] == '2']; tmp_0['new_label'] = '1'\n",
    "tmp_1 = stats_data[stats_data['new_label'] != '2']; tmp_1['new_label'] = '0'\n",
    "tmp_2 = pd.concat([tmp_0, tmp_1], axis=0).sort_index()\n",
    "\n",
    "stats_data_plus_2_class_X = sm.add_constant(tmp_2.iloc[:, [0,1,2]]).astype(int)\n",
    "stats_data_plus_2_class_y = tmp_2['new_label'].astype(int)\n",
    "\n",
    "logit_mod_plus_2_class = sm.Logit(stats_data_plus_2_class_y, stats_data_plus_2_class_X)\n",
    "logit_res_plus_2_class = logit_mod_plus_2_class.fit(disp=0)\n",
    "print(logit_res_plus_2_class.summary())"
   ]
  },
  {
   "cell_type": "markdown",
   "metadata": {},
   "source": [
    "#### - '+3' Class Summary Report"
   ]
  },
  {
   "cell_type": "code",
   "execution_count": 22,
   "metadata": {},
   "outputs": [
    {
     "name": "stderr",
     "output_type": "stream",
     "text": [
      "C:\\Users\\Jay\\lib\\site-packages\\ipykernel_launcher.py:1: SettingWithCopyWarning: \n",
      "A value is trying to be set on a copy of a slice from a DataFrame.\n",
      "Try using .loc[row_indexer,col_indexer] = value instead\n",
      "\n",
      "See the caveats in the documentation: http://pandas.pydata.org/pandas-docs/stable/indexing.html#indexing-view-versus-copy\n",
      "  \"\"\"Entry point for launching an IPython kernel.\n",
      "C:\\Users\\Jay\\lib\\site-packages\\ipykernel_launcher.py:2: SettingWithCopyWarning: \n",
      "A value is trying to be set on a copy of a slice from a DataFrame.\n",
      "Try using .loc[row_indexer,col_indexer] = value instead\n",
      "\n",
      "See the caveats in the documentation: http://pandas.pydata.org/pandas-docs/stable/indexing.html#indexing-view-versus-copy\n",
      "  \n"
     ]
    },
    {
     "name": "stdout",
     "output_type": "stream",
     "text": [
      "                           Logit Regression Results                           \n",
      "==============================================================================\n",
      "Dep. Variable:              new_label   No. Observations:                  985\n",
      "Model:                          Logit   Df Residuals:                      981\n",
      "Method:                           MLE   Df Model:                            3\n",
      "Date:                Sat, 26 Oct 2019   Pseudo R-squ.:                 0.01002\n",
      "Time:                        09:50:16   Log-Likelihood:                -367.16\n",
      "converged:                       True   LL-Null:                       -370.88\n",
      "                                        LLR p-value:                   0.05930\n",
      "==============================================================================\n",
      "                 coef    std err          z      P>|z|      [0.025      0.975]\n",
      "------------------------------------------------------------------------------\n",
      "const         -1.9483      0.099    -19.737      0.000      -2.142      -1.755\n",
      "feature_0      0.0655      0.120      0.545      0.585      -0.170       0.301\n",
      "feature_s      0.2620      0.126      2.072      0.038       0.014       0.510\n",
      "feature_j     -0.2095      0.114     -1.840      0.066      -0.433       0.014\n",
      "==============================================================================\n"
     ]
    }
   ],
   "source": [
    "tmp_0 = stats_data[stats_data['new_label'] == '3']; tmp_0['new_label'] = '1'\n",
    "tmp_1 = stats_data[stats_data['new_label'] != '3']; tmp_1['new_label'] = '0'\n",
    "tmp_2 = pd.concat([tmp_0, tmp_1], axis=0).sort_index()\n",
    "\n",
    "stats_data_plus_3_class_X = sm.add_constant(tmp_2.iloc[:, [0,1,2]]).astype(int)\n",
    "stats_data_plus_3_class_y = tmp_2['new_label'].astype(int)\n",
    "\n",
    "logit_mod_plus_3_class = sm.Logit(stats_data_plus_3_class_y, stats_data_plus_3_class_X)\n",
    "logit_res_plus_3_class = logit_mod_plus_3_class.fit(disp=0)\n",
    "print(logit_res_plus_3_class.summary())"
   ]
  },
  {
   "cell_type": "markdown",
   "metadata": {},
   "source": [
    "### - i) Train Summary"
   ]
  },
  {
   "cell_type": "code",
   "execution_count": 23,
   "metadata": {},
   "outputs": [
    {
     "name": "stdout",
     "output_type": "stream",
     "text": [
      "              precision    recall  f1-score   support\n",
      "\n",
      "          -1       0.00      0.00      0.00       152\n",
      "          -2       0.00      0.00      0.00        90\n",
      "          -3       0.11      0.52      0.19        48\n",
      "           1       0.50      0.03      0.06       166\n",
      "           2       0.16      0.28      0.21        95\n",
      "           3       0.14      0.47      0.22        66\n",
      "\n",
      "    accuracy                           0.14       617\n",
      "   macro avg       0.15      0.22      0.11       617\n",
      "weighted avg       0.18      0.14      0.08       617\n",
      "\n"
     ]
    },
    {
     "name": "stderr",
     "output_type": "stream",
     "text": [
      "C:\\Users\\Jay\\lib\\site-packages\\sklearn\\metrics\\classification.py:1437: UndefinedMetricWarning: Precision and F-score are ill-defined and being set to 0.0 in labels with no predicted samples.\n",
      "  'precision', 'predicted', average, warn_for)\n",
      "C:\\Users\\Jay\\lib\\site-packages\\sklearn\\metrics\\classification.py:1437: UndefinedMetricWarning: Precision and F-score are ill-defined and being set to 0.0 in labels with no predicted samples.\n",
      "  'precision', 'predicted', average, warn_for)\n",
      "C:\\Users\\Jay\\lib\\site-packages\\sklearn\\metrics\\classification.py:1437: UndefinedMetricWarning: Precision and F-score are ill-defined and being set to 0.0 in labels with no predicted samples.\n",
      "  'precision', 'predicted', average, warn_for)\n"
     ]
    }
   ],
   "source": [
    "print(classification_report(y_train, Logistic_Regression_model_ovr.predict(X_train)))"
   ]
  },
  {
   "cell_type": "code",
   "execution_count": 24,
   "metadata": {},
   "outputs": [
    {
     "data": {
      "text/plain": [
       "<matplotlib.axes._subplots.AxesSubplot at 0x2289fea8e10>"
      ]
     },
     "execution_count": 24,
     "metadata": {},
     "output_type": "execute_result"
    },
    {
     "data": {
      "image/png": "[encoded data removed]",
      "text/plain": [
       "<Figure size 432x288 with 1 Axes>"
      ]
     },
     "metadata": {},
     "output_type": "display_data"
    }
   ],
   "source": [
    "pred_y_train = pd.Series(Logistic_Regression_model_ovr.predict(X_train))\n",
    "\n",
    "backtest_train_data = pd.concat([train_data['date'], \n",
    "                                train_data['price_diff'],\n",
    "                                pd.Series(pred_y_train, name='pred_y_train'),\n",
    "                                pd.Series(y_train, name='actual_y_train')], axis=1)\n",
    "\n",
    "backtest_train_data_profits = []\n",
    "\n",
    "for i in range(len(backtest_train_data)):\n",
    "    \n",
    "    price_diff = backtest_train_data.iat[i, 1]\n",
    "    pred_y_train = backtest_train_data.iat[i, 2]\n",
    "    \n",
    "    if pred_y_train == '3':\n",
    "        backtest_train_data_profits.append(price_diff)\n",
    "    elif pred_y_train == '2':\n",
    "        backtest_train_data_profits.append(price_diff)\n",
    "    elif pred_y_train == '1':\n",
    "        backtest_train_data_profits.append(price_diff)\n",
    "    elif pred_y_train == '-1':\n",
    "        backtest_train_data_profits.append(-price_diff)\n",
    "    elif pred_y_train == '-2':\n",
    "        backtest_train_data_profits.append(-price_diff)\n",
    "    elif pred_y_train == '-3':\n",
    "        backtest_train_data_profits.append(-price_diff)\n",
    "    else:\n",
    "        backtest_train_data_profits.append(0)\n",
    "        \n",
    "pd.Series(backtest_train_data_profits).cumsum().plot()"
   ]
  },
  {
   "cell_type": "code",
   "execution_count": 25,
   "metadata": {},
   "outputs": [
    {
     "data": {
      "text/html": [
       "<div>\n",
       "<style scoped>\n",
       "    .dataframe tbody tr th:only-of-type {\n",
       "        vertical-align: middle;\n",
       "    }\n",
       "\n",
       "    .dataframe tbody tr th {\n",
       "        vertical-align: top;\n",
       "    }\n",
       "\n",
       "    .dataframe thead th {\n",
       "        text-align: right;\n",
       "    }\n",
       "</style>\n",
       "<table border=\"1\" class=\"dataframe\">\n",
       "  <thead>\n",
       "    <tr style=\"text-align: right;\">\n",
       "      <th></th>\n",
       "      <th>0</th>\n",
       "      <th>1</th>\n",
       "    </tr>\n",
       "  </thead>\n",
       "  <tbody>\n",
       "    <tr>\n",
       "      <th>0</th>\n",
       "      <td>1.000000</td>\n",
       "      <td>0.691137</td>\n",
       "    </tr>\n",
       "    <tr>\n",
       "      <th>1</th>\n",
       "      <td>0.691137</td>\n",
       "      <td>1.000000</td>\n",
       "    </tr>\n",
       "  </tbody>\n",
       "</table>\n",
       "</div>"
      ],
      "text/plain": [
       "          0         1\n",
       "0  1.000000  0.691137\n",
       "1  0.691137  1.000000"
      ]
     },
     "execution_count": 25,
     "metadata": {},
     "output_type": "execute_result"
    }
   ],
   "source": [
    "pd.concat([pd.Series(train_origin_feature_profits),\n",
    "           pd.Series(backtest_train_data_profits)], axis=1).corr()"
   ]
  },
  {
   "cell_type": "code",
   "execution_count": 26,
   "metadata": {},
   "outputs": [
    {
     "data": {
      "image/png": "[encoded data removed]",
      "text/plain": [
       "<Figure size 432x288 with 1 Axes>"
      ]
     },
     "metadata": {},
     "output_type": "display_data"
    }
   ],
   "source": [
    "plt.hist(backtest_train_data_profits)\n",
    "plt.show()"
   ]
  },
  {
   "cell_type": "code",
   "execution_count": 27,
   "metadata": {},
   "outputs": [
    {
     "name": "stdout",
     "output_type": "stream",
     "text": [
      "###########################\n",
      "35\n",
      "22\n",
      "###########################\n",
      "36\n",
      "21\n",
      "###########################\n",
      "95\n",
      "90\n",
      "###########################\n",
      "160\n",
      "158\n"
     ]
    }
   ],
   "source": [
    "backtest_train_data_profit = pd.DataFrame(backtest_train_data_profits, columns=['profit'])\n",
    "print('###########################')\n",
    "print(len(backtest_train_data_profit[backtest_train_data_profit['profit'] > 300]))\n",
    "print(len(backtest_train_data_profit[backtest_train_data_profit['profit'] < -300]))\n",
    "print('###########################')\n",
    "print(len(backtest_train_data_profit[(backtest_train_data_profit['profit'] > 200) & (backtest_train_data_profit['profit'] <= 300)]))\n",
    "print(len(backtest_train_data_profit[(backtest_train_data_profit['profit'] >= -300) & (backtest_train_data_profit['profit'] < -200)]))\n",
    "print('###########################')\n",
    "print(len(backtest_train_data_profit[(backtest_train_data_profit['profit'] > 100) & (backtest_train_data_profit['profit'] <= 200)]))\n",
    "print(len(backtest_train_data_profit[(backtest_train_data_profit['profit'] >= -200) & (backtest_train_data_profit['profit'] < -100)]))\n",
    "print('###########################')\n",
    "print(len(backtest_train_data_profit[(backtest_train_data_profit['profit'] > 0) & (backtest_train_data_profit['profit'] <= 100)]))\n",
    "print(len(backtest_train_data_profit[(backtest_train_data_profit['profit'] >= -100) & (backtest_train_data_profit['profit'] < -0)]))"
   ]
  },
  {
   "cell_type": "markdown",
   "metadata": {},
   "source": [
    "### - ii) Test Summary"
   ]
  },
  {
   "cell_type": "code",
   "execution_count": 28,
   "metadata": {},
   "outputs": [
    {
     "name": "stdout",
     "output_type": "stream",
     "text": [
      "              precision    recall  f1-score   support\n",
      "\n",
      "          -1       0.00      0.00      0.00        43\n",
      "          -2       0.00      0.00      0.00        35\n",
      "          -3       0.21      0.63      0.31        41\n",
      "           1       0.00      0.00      0.00        55\n",
      "           2       0.10      0.14      0.12        28\n",
      "           3       0.17      0.33      0.22        36\n",
      "\n",
      "    accuracy                           0.18       238\n",
      "   macro avg       0.08      0.19      0.11       238\n",
      "weighted avg       0.07      0.18      0.10       238\n",
      "\n"
     ]
    },
    {
     "name": "stderr",
     "output_type": "stream",
     "text": [
      "C:\\Users\\Jay\\lib\\site-packages\\sklearn\\metrics\\classification.py:1437: UndefinedMetricWarning: Precision and F-score are ill-defined and being set to 0.0 in labels with no predicted samples.\n",
      "  'precision', 'predicted', average, warn_for)\n",
      "C:\\Users\\Jay\\lib\\site-packages\\sklearn\\metrics\\classification.py:1437: UndefinedMetricWarning: Precision and F-score are ill-defined and being set to 0.0 in labels with no predicted samples.\n",
      "  'precision', 'predicted', average, warn_for)\n",
      "C:\\Users\\Jay\\lib\\site-packages\\sklearn\\metrics\\classification.py:1437: UndefinedMetricWarning: Precision and F-score are ill-defined and being set to 0.0 in labels with no predicted samples.\n",
      "  'precision', 'predicted', average, warn_for)\n"
     ]
    }
   ],
   "source": [
    "print(classification_report(y_test, Logistic_Regression_model_ovr.predict(X_test)))"
   ]
  },
  {
   "cell_type": "code",
   "execution_count": 29,
   "metadata": {},
   "outputs": [
    {
     "data": {
      "text/plain": [
       "<matplotlib.axes._subplots.AxesSubplot at 0x2289e9c9978>"
      ]
     },
     "execution_count": 29,
     "metadata": {},
     "output_type": "execute_result"
    },
    {
     "data": {
      "image/png": "[encoded data removed]",
      "text/plain": [
       "<Figure size 432x288 with 1 Axes>"
      ]
     },
     "metadata": {},
     "output_type": "display_data"
    }
   ],
   "source": [
    "pred_y_test = pd.Series(Logistic_Regression_model_ovr.predict(X_test))\n",
    "\n",
    "backtest_test_data = pd.concat([test_data['date'], \n",
    "                                test_data['price_diff'],\n",
    "                                pd.Series(pred_y_test, name='pred_y_test'),\n",
    "                                pd.Series(y_test, name='actual_y_test')], axis=1)\n",
    "\n",
    "backtest_test_data_profits = []\n",
    "\n",
    "for i in range(len(backtest_test_data)):\n",
    "    price_diff = backtest_test_data.iat[i, 1]\n",
    "    pred_y_test = backtest_test_data.iat[i, 2]\n",
    "    \n",
    "    if pred_y_test == '3':\n",
    "        backtest_test_data_profits.append(price_diff)\n",
    "    elif pred_y_test == '2':\n",
    "        backtest_test_data_profits.append(price_diff)\n",
    "    elif pred_y_test == '1':\n",
    "        backtest_test_data_profits.append(price_diff)\n",
    "    elif pred_y_test == '-1':\n",
    "        backtest_test_data_profits.append(-price_diff)\n",
    "    elif pred_y_test == '-2':\n",
    "        backtest_test_data_profits.append(-price_diff)\n",
    "    elif pred_y_test == '-3':\n",
    "        backtest_test_data_profits.append(-price_diff)\n",
    "    else:\n",
    "        backtest_test_data_profits.append(0)\n",
    "\n",
    "pd.Series(backtest_test_data_profits).cumsum().plot()"
   ]
  },
  {
   "cell_type": "code",
   "execution_count": 30,
   "metadata": {},
   "outputs": [
    {
     "data": {
      "text/html": [
       "<div>\n",
       "<style scoped>\n",
       "    .dataframe tbody tr th:only-of-type {\n",
       "        vertical-align: middle;\n",
       "    }\n",
       "\n",
       "    .dataframe tbody tr th {\n",
       "        vertical-align: top;\n",
       "    }\n",
       "\n",
       "    .dataframe thead th {\n",
       "        text-align: right;\n",
       "    }\n",
       "</style>\n",
       "<table border=\"1\" class=\"dataframe\">\n",
       "  <thead>\n",
       "    <tr style=\"text-align: right;\">\n",
       "      <th></th>\n",
       "      <th>0</th>\n",
       "      <th>1</th>\n",
       "    </tr>\n",
       "  </thead>\n",
       "  <tbody>\n",
       "    <tr>\n",
       "      <th>0</th>\n",
       "      <td>1.000000</td>\n",
       "      <td>0.778415</td>\n",
       "    </tr>\n",
       "    <tr>\n",
       "      <th>1</th>\n",
       "      <td>0.778415</td>\n",
       "      <td>1.000000</td>\n",
       "    </tr>\n",
       "  </tbody>\n",
       "</table>\n",
       "</div>"
      ],
      "text/plain": [
       "          0         1\n",
       "0  1.000000  0.778415\n",
       "1  0.778415  1.000000"
      ]
     },
     "execution_count": 30,
     "metadata": {},
     "output_type": "execute_result"
    }
   ],
   "source": [
    "pd.concat([pd.Series(test_origin_feature_profits),\n",
    "           pd.Series(backtest_test_data_profits)], axis=1).corr()"
   ]
  },
  {
   "cell_type": "code",
   "execution_count": 31,
   "metadata": {},
   "outputs": [
    {
     "data": {
      "image/png": "[encoded data removed]",
      "text/plain": [
       "<Figure size 432x288 with 1 Axes>"
      ]
     },
     "metadata": {},
     "output_type": "display_data"
    }
   ],
   "source": [
    "plt.hist(backtest_test_data_profits)\n",
    "plt.show()"
   ]
  },
  {
   "cell_type": "code",
   "execution_count": 32,
   "metadata": {},
   "outputs": [
    {
     "name": "stdout",
     "output_type": "stream",
     "text": [
      "###########################\n",
      "22\n",
      "16\n",
      "###########################\n",
      "18\n",
      "21\n",
      "###########################\n",
      "31\n",
      "32\n",
      "###########################\n",
      "52\n",
      "46\n"
     ]
    }
   ],
   "source": [
    "backtest_test_data_profit = pd.DataFrame(backtest_test_data_profits, columns=['profit'])\n",
    "print('###########################')\n",
    "print(len(backtest_test_data_profit[backtest_test_data_profit['profit'] > 300]))\n",
    "print(len(backtest_test_data_profit[backtest_test_data_profit['profit'] < -300]))\n",
    "print('###########################')\n",
    "print(len(backtest_test_data_profit[(backtest_test_data_profit['profit'] > 200) & (backtest_test_data_profit['profit'] <= 300)]))\n",
    "print(len(backtest_test_data_profit[(backtest_test_data_profit['profit'] >= -300) & (backtest_test_data_profit['profit'] < -200)]))\n",
    "print('###########################')\n",
    "print(len(backtest_test_data_profit[(backtest_test_data_profit['profit'] > 100) & (backtest_test_data_profit['profit'] <= 200)]))\n",
    "print(len(backtest_test_data_profit[(backtest_test_data_profit['profit'] >= -200) & (backtest_test_data_profit['profit'] < -100)]))\n",
    "print('###########################')\n",
    "print(len(backtest_test_data_profit[(backtest_test_data_profit['profit'] > 0) & (backtest_test_data_profit['profit'] <= 100)]))\n",
    "print(len(backtest_test_data_profit[(backtest_test_data_profit['profit'] >= -100) & (backtest_test_data_profit['profit'] < -0)]))"
   ]
  },
  {
   "cell_type": "markdown",
   "metadata": {},
   "source": [
    "### - iii) OOS Summary"
   ]
  },
  {
   "cell_type": "code",
   "execution_count": 33,
   "metadata": {},
   "outputs": [
    {
     "name": "stdout",
     "output_type": "stream",
     "text": [
      "              precision    recall  f1-score   support\n",
      "\n",
      "          -1       0.00      0.00      0.00        28\n",
      "          -2       0.00      0.00      0.00        12\n",
      "          -3       0.18      0.71      0.29        17\n",
      "           1       0.00      0.00      0.00        33\n",
      "           2       0.19      0.26      0.22        19\n",
      "           3       0.21      0.38      0.27        21\n",
      "\n",
      "    accuracy                           0.19       130\n",
      "   macro avg       0.10      0.22      0.13       130\n",
      "weighted avg       0.09      0.19      0.11       130\n",
      "\n"
     ]
    },
    {
     "name": "stderr",
     "output_type": "stream",
     "text": [
      "C:\\Users\\Jay\\lib\\site-packages\\sklearn\\metrics\\classification.py:1437: UndefinedMetricWarning: Precision and F-score are ill-defined and being set to 0.0 in labels with no predicted samples.\n",
      "  'precision', 'predicted', average, warn_for)\n",
      "C:\\Users\\Jay\\lib\\site-packages\\sklearn\\metrics\\classification.py:1437: UndefinedMetricWarning: Precision and F-score are ill-defined and being set to 0.0 in labels with no predicted samples.\n",
      "  'precision', 'predicted', average, warn_for)\n",
      "C:\\Users\\Jay\\lib\\site-packages\\sklearn\\metrics\\classification.py:1437: UndefinedMetricWarning: Precision and F-score are ill-defined and being set to 0.0 in labels with no predicted samples.\n",
      "  'precision', 'predicted', average, warn_for)\n"
     ]
    }
   ],
   "source": [
    "print(classification_report(y_oos, Logistic_Regression_model_ovr.predict(X_oos)))"
   ]
  },
  {
   "cell_type": "code",
   "execution_count": 34,
   "metadata": {},
   "outputs": [
    {
     "data": {
      "text/plain": [
       "<matplotlib.axes._subplots.AxesSubplot at 0x2289ea233c8>"
      ]
     },
     "execution_count": 34,
     "metadata": {},
     "output_type": "execute_result"
    },
    {
     "data": {
      "image/png": "[encoded data removed]",
      "text/plain": [
       "<Figure size 432x288 with 1 Axes>"
      ]
     },
     "metadata": {},
     "output_type": "display_data"
    }
   ],
   "source": [
    "pred_y_oos = pd.Series(Logistic_Regression_model_ovr.predict(X_oos))\n",
    "backtest_oos_data = pd.concat([oos_data['date'],\n",
    "                               oos_data['price_diff'],\n",
    "                               pd.Series(pred_y_oos, name='pred_y_oos'),\n",
    "                               pd.Series(y_oos, name='actual_y_oos')], axis=1)\n",
    "backtest_oos_data_profits = []\n",
    "\n",
    "for i in range(len(backtest_oos_data)):\n",
    "    price_diff = backtest_oos_data.iat[i, 1]\n",
    "    pred_y_oos = backtest_oos_data.iat[i, 2]\n",
    "        \n",
    "    if pred_y_oos == '3':\n",
    "        backtest_oos_data_profits.append(price_diff)\n",
    "    elif pred_y_oos == '2':\n",
    "        backtest_oos_data_profits.append(price_diff)\n",
    "    elif pred_y_oos == '1':\n",
    "        backtest_oos_data_profits.append(price_diff)\n",
    "    elif pred_y_oos == '-1':\n",
    "        backtest_oos_data_profits.append(-price_diff)\n",
    "    elif pred_y_oos == '-2':\n",
    "        backtest_oos_data_profits.append(-price_diff)\n",
    "    elif pred_y_oos == '-3':\n",
    "        backtest_oos_data_profits.append(-price_diff)\n",
    "    else:\n",
    "        backtest_oos_data_profits.append(0)\n",
    "        \n",
    "pd.Series(backtest_oos_data_profits).cumsum().plot()"
   ]
  },
  {
   "cell_type": "code",
   "execution_count": 35,
   "metadata": {},
   "outputs": [
    {
     "data": {
      "text/html": [
       "<div>\n",
       "<style scoped>\n",
       "    .dataframe tbody tr th:only-of-type {\n",
       "        vertical-align: middle;\n",
       "    }\n",
       "\n",
       "    .dataframe tbody tr th {\n",
       "        vertical-align: top;\n",
       "    }\n",
       "\n",
       "    .dataframe thead th {\n",
       "        text-align: right;\n",
       "    }\n",
       "</style>\n",
       "<table border=\"1\" class=\"dataframe\">\n",
       "  <thead>\n",
       "    <tr style=\"text-align: right;\">\n",
       "      <th></th>\n",
       "      <th>0</th>\n",
       "      <th>1</th>\n",
       "    </tr>\n",
       "  </thead>\n",
       "  <tbody>\n",
       "    <tr>\n",
       "      <th>0</th>\n",
       "      <td>1.000000</td>\n",
       "      <td>0.722771</td>\n",
       "    </tr>\n",
       "    <tr>\n",
       "      <th>1</th>\n",
       "      <td>0.722771</td>\n",
       "      <td>1.000000</td>\n",
       "    </tr>\n",
       "  </tbody>\n",
       "</table>\n",
       "</div>"
      ],
      "text/plain": [
       "          0         1\n",
       "0  1.000000  0.722771\n",
       "1  0.722771  1.000000"
      ]
     },
     "execution_count": 35,
     "metadata": {},
     "output_type": "execute_result"
    }
   ],
   "source": [
    "pd.concat([pd.Series(oos_origin_feature_profits),\n",
    "           pd.Series(backtest_oos_data_profits)], axis=1).corr()"
   ]
  },
  {
   "cell_type": "code",
   "execution_count": 36,
   "metadata": {},
   "outputs": [
    {
     "data": {
      "image/png": "[encoded data removed]",
      "text/plain": [
       "<Figure size 432x288 with 1 Axes>"
      ]
     },
     "metadata": {},
     "output_type": "display_data"
    }
   ],
   "source": [
    "plt.hist(backtest_oos_data_profits)\n",
    "plt.show()"
   ]
  },
  {
   "cell_type": "code",
   "execution_count": 37,
   "metadata": {},
   "outputs": [
    {
     "name": "stdout",
     "output_type": "stream",
     "text": [
      "###########################\n",
      "11\n",
      "4\n",
      "###########################\n",
      "12\n",
      "11\n",
      "###########################\n",
      "17\n",
      "14\n",
      "###########################\n",
      "30\n",
      "31\n"
     ]
    }
   ],
   "source": [
    "backtest_oos_data_profit = pd.DataFrame(backtest_oos_data_profits, columns=['profit'])\n",
    "print('###########################')\n",
    "print(len(backtest_oos_data_profit[backtest_oos_data_profit['profit'] > 300]))\n",
    "print(len(backtest_oos_data_profit[backtest_oos_data_profit['profit'] < -300]))\n",
    "print('###########################')\n",
    "print(len(backtest_oos_data_profit[(backtest_oos_data_profit['profit'] > 200) & (backtest_oos_data_profit['profit'] <= 300)]))\n",
    "print(len(backtest_oos_data_profit[(backtest_oos_data_profit['profit'] >= -300) & (backtest_oos_data_profit['profit'] < -200)]))\n",
    "print('###########################')\n",
    "print(len(backtest_oos_data_profit[(backtest_oos_data_profit['profit'] > 100) & (backtest_oos_data_profit['profit'] <= 200)]))\n",
    "print(len(backtest_oos_data_profit[(backtest_oos_data_profit['profit'] >= -200) & (backtest_oos_data_profit['profit'] < -100)]))\n",
    "print('###########################')\n",
    "print(len(backtest_oos_data_profit[(backtest_oos_data_profit['profit'] > 0) & (backtest_oos_data_profit['profit'] <= 100)]))\n",
    "print(len(backtest_oos_data_profit[(backtest_oos_data_profit['profit'] >= -100) & (backtest_oos_data_profit['profit'] < -0)]))"
   ]
  },
  {
   "cell_type": "markdown",
   "metadata": {},
   "source": [
    "### - iv) (TEST + OOS)'s result\n",
    "- a) original feature's result\n",
    "- b) Logistic Regression's result"
   ]
  },
  {
   "cell_type": "markdown",
   "metadata": {},
   "source": [
    "#### b) Original feature's result (Test + OOS)"
   ]
  },
  {
   "cell_type": "code",
   "execution_count": 38,
   "metadata": {},
   "outputs": [
    {
     "name": "stdout",
     "output_type": "stream",
     "text": [
      "########################### TEST + OOS Summary ###########################\n",
      "1. Total Profit:  5365\n",
      "2. Happy Rate:  52.514 %\n",
      "3. Sharpe Ratio:  1.1286\n",
      "4. MDD Amount : -1850\n",
      "5. MDD Length : 17\n"
     ]
    },
    {
     "data": {
      "image/png": "[encoded data removed]",
      "text/plain": [
       "<Figure size 576x360 with 1 Axes>"
      ]
     },
     "metadata": {},
     "output_type": "display_data"
    }
   ],
   "source": [
    "origin_feature_test_oos = pd.DataFrame(pd.concat([pd.Series(test_origin_feature_profits), \n",
    "                                                  pd.Series(oos_origin_feature_profits)], axis=0).reset_index(drop=True)\n",
    "                                       ,columns=['origin_feature_test_oos_profit'])\n",
    "\n",
    "win = len(origin_feature_test_oos[origin_feature_test_oos['origin_feature_test_oos_profit'] > 0])\n",
    "lose = len(origin_feature_test_oos[origin_feature_test_oos['origin_feature_test_oos_profit'] < 0])\n",
    "\n",
    "MDD_end_idx = (np.maximum.accumulate(origin_feature_test_oos['origin_feature_test_oos_profit'].cumsum()) - origin_feature_test_oos['origin_feature_test_oos_profit'].cumsum()).idxmax()\n",
    "MDD_start_idx = origin_feature_test_oos['origin_feature_test_oos_profit'].cumsum()[:MDD_end_idx].idxmax()\n",
    "\n",
    "MDD_amount = origin_feature_test_oos['origin_feature_test_oos_profit'].cumsum()[:MDD_start_idx + 1].iloc[-1] - origin_feature_test_oos['origin_feature_test_oos_profit'].cumsum()[:MDD_end_idx + 1].iloc[-1]\n",
    "\n",
    "print('########################### TEST + OOS Summary ###########################')\n",
    "print('1. Total Profit: ', np.sum(origin_feature_test_oos['origin_feature_test_oos_profit']))\n",
    "print('2. Happy Rate: ', round((win / (win + lose)) * 100, 4), '%')\n",
    "print('3. Sharpe Ratio: ', round((252**0.5) * (origin_feature_test_oos['origin_feature_test_oos_profit'].mean() / origin_feature_test_oos['origin_feature_test_oos_profit'].std()), 4))\n",
    "print('4. MDD Amount :', -int(MDD_amount))\n",
    "print('5. MDD Length :', MDD_end_idx - MDD_start_idx)\n",
    "\n",
    "plt.figure(figsize=(8, 5))\n",
    "plt.title(\"Original Feature's Train Return (TEST + OOS)\")\n",
    "plt.plot(origin_feature_test_oos['origin_feature_test_oos_profit'].cumsum())\n",
    "plt.axvline(origin_feature_test_oos.index[MDD_start_idx], color='b', linestyle=':', linewidth=1)\n",
    "plt.axvline(origin_feature_test_oos.index[MDD_end_idx], color='b', linestyle=':', linewidth=1)\n",
    "plt.show()"
   ]
  },
  {
   "cell_type": "markdown",
   "metadata": {},
   "source": [
    "#### b) Logistic Regression's result (Test + OOS)"
   ]
  },
  {
   "cell_type": "code",
   "execution_count": 39,
   "metadata": {},
   "outputs": [
    {
     "name": "stdout",
     "output_type": "stream",
     "text": [
      "########################### TEST + OOS Summary ###########################\n",
      "1. Total Profit:  5605\n",
      "2. Happy Rate:  52.4457 %\n",
      "3. Sharpe Ratio:  1.1492\n",
      "4. MDD Amount : -2595\n",
      "5. MDD Length : 108\n"
     ]
    },
    {
     "data": {
      "image/png": "[encoded data removed]",
      "text/plain": [
       "<Figure size 576x360 with 1 Axes>"
      ]
     },
     "metadata": {},
     "output_type": "display_data"
    }
   ],
   "source": [
    "ml_test_oos = pd.concat([backtest_test_data_profit,\n",
    "                         backtest_oos_data_profit], axis=0).reset_index(drop=True).rename(columns={'profit':'ml_test_oos_profit'})\n",
    "\n",
    "win = len(ml_test_oos[ml_test_oos['ml_test_oos_profit'] > 0])\n",
    "lose = len(ml_test_oos[ml_test_oos['ml_test_oos_profit'] < 0])\n",
    "\n",
    "MDD_end_idx = (np.maximum.accumulate(ml_test_oos['ml_test_oos_profit'].cumsum()) - ml_test_oos['ml_test_oos_profit'].cumsum()).idxmax()\n",
    "MDD_start_idx = ml_test_oos['ml_test_oos_profit'].cumsum()[:MDD_end_idx].idxmax()\n",
    "\n",
    "MDD_amount = ml_test_oos['ml_test_oos_profit'].cumsum()[:MDD_start_idx + 1].iloc[-1] - ml_test_oos['ml_test_oos_profit'].cumsum()[:MDD_end_idx + 1].iloc[-1]\n",
    "\n",
    "print('########################### TEST + OOS Summary ###########################')\n",
    "print('1. Total Profit: ', np.sum(ml_test_oos['ml_test_oos_profit']))\n",
    "print('2. Happy Rate: ', round((win / (win + lose)) * 100, 4), '%')\n",
    "print('3. Sharpe Ratio: ', round((252**0.5) * (ml_test_oos['ml_test_oos_profit'].mean() / ml_test_oos['ml_test_oos_profit'].std()), 4))\n",
    "print('4. MDD Amount :', -int(MDD_amount))\n",
    "print('5. MDD Length :', MDD_end_idx - MDD_start_idx)\n",
    "\n",
    "plt.figure(figsize=(8, 5))\n",
    "plt.title(\"ML Train Return (TEST + OOS)\")\n",
    "plt.plot(ml_test_oos['ml_test_oos_profit'].cumsum())\n",
    "plt.axvline(ml_test_oos.index[MDD_start_idx], color='b', linestyle=':', linewidth=1)\n",
    "plt.axvline(ml_test_oos.index[MDD_end_idx], color='b', linestyle=':', linewidth=1)\n",
    "plt.show()"
   ]
  },
  {
   "cell_type": "code",
   "execution_count": 40,
   "metadata": {},
   "outputs": [
    {
     "data": {
      "text/html": [
       "<div>\n",
       "<style scoped>\n",
       "    .dataframe tbody tr th:only-of-type {\n",
       "        vertical-align: middle;\n",
       "    }\n",
       "\n",
       "    .dataframe tbody tr th {\n",
       "        vertical-align: top;\n",
       "    }\n",
       "\n",
       "    .dataframe thead th {\n",
       "        text-align: right;\n",
       "    }\n",
       "</style>\n",
       "<table border=\"1\" class=\"dataframe\">\n",
       "  <thead>\n",
       "    <tr style=\"text-align: right;\">\n",
       "      <th></th>\n",
       "      <th>ml_test_oos_profit</th>\n",
       "      <th>origin_feature_test_oos_profit</th>\n",
       "    </tr>\n",
       "  </thead>\n",
       "  <tbody>\n",
       "    <tr>\n",
       "      <th>ml_test_oos_profit</th>\n",
       "      <td>1.000000</td>\n",
       "      <td>0.760931</td>\n",
       "    </tr>\n",
       "    <tr>\n",
       "      <th>origin_feature_test_oos_profit</th>\n",
       "      <td>0.760931</td>\n",
       "      <td>1.000000</td>\n",
       "    </tr>\n",
       "  </tbody>\n",
       "</table>\n",
       "</div>"
      ],
      "text/plain": [
       "                                ml_test_oos_profit  \\\n",
       "ml_test_oos_profit                        1.000000   \n",
       "origin_feature_test_oos_profit            0.760931   \n",
       "\n",
       "                                origin_feature_test_oos_profit  \n",
       "ml_test_oos_profit                                    0.760931  \n",
       "origin_feature_test_oos_profit                        1.000000  "
      ]
     },
     "execution_count": 40,
     "metadata": {},
     "output_type": "execute_result"
    }
   ],
   "source": [
    "pd.concat([ml_test_oos,\n",
    "           origin_feature_test_oos], axis=1).corr()"
   ]
  },
  {
   "cell_type": "markdown",
   "metadata": {},
   "source": [
    "###  - Quick thoughts \n",
    "- What If I use both (original feature & ML model), would it be stablize my portfolio?\n",
    "    - the corr is pretty high (0.76), but let's mix them and plot the graph.\n",
    "- 1. Try to re-generate the model with **train+test** data and see the result.\n",
    "- 2. Bring daily option data and see the result."
   ]
  },
  {
   "cell_type": "markdown",
   "metadata": {},
   "source": [
    "### - 1. Try to re-generate the model with train+test data and see the result."
   ]
  },
  {
   "cell_type": "code",
   "execution_count": 41,
   "metadata": {},
   "outputs": [],
   "source": [
    "train_test_data = pd.concat([train_data, test_data], axis=0).reset_index(drop=True)\n",
    "\n",
    "X_train_test = train_test_data.iloc[:, [1,2,3]].astype('category')\n",
    "y_train_test = train_test_data.iloc[:, 5].astype('category')\n",
    "\n",
    "os_X_train_test, os_y_train_test = SMOTENC(random_state=0,\n",
    "                                 categorical_features=[0,2]).fit_sample(X_train_test, y_train_test) "
   ]
  },
  {
   "cell_type": "code",
   "execution_count": 42,
   "metadata": {},
   "outputs": [
    {
     "name": "stderr",
     "output_type": "stream",
     "text": [
      "C:\\Users\\Jay\\lib\\site-packages\\sklearn\\linear_model\\logistic.py:432: FutureWarning: Default solver will be changed to 'lbfgs' in 0.22. Specify a solver to silence this warning.\n",
      "  FutureWarning)\n"
     ]
    }
   ],
   "source": [
    "Updated_Logistic_Regression_model_ovr = LogisticRegression(multi_class='ovr').fit(os_X_train_test, os_y_train_test)"
   ]
  },
  {
   "cell_type": "code",
   "execution_count": 43,
   "metadata": {},
   "outputs": [
    {
     "name": "stdout",
     "output_type": "stream",
     "text": [
      "              precision    recall  f1-score   support\n",
      "\n",
      "          -1       0.26      0.24      0.25       221\n",
      "          -2       0.00      0.00      0.00       221\n",
      "          -3       0.25      0.65      0.36       221\n",
      "           1       0.18      0.37      0.25       221\n",
      "           2       0.50      0.00      0.01       221\n",
      "           3       0.16      0.07      0.09       221\n",
      "\n",
      "    accuracy                           0.22      1326\n",
      "   macro avg       0.23      0.22      0.16      1326\n",
      "weighted avg       0.23      0.22      0.16      1326\n",
      "\n"
     ]
    },
    {
     "name": "stderr",
     "output_type": "stream",
     "text": [
      "C:\\Users\\Jay\\lib\\site-packages\\sklearn\\metrics\\classification.py:1437: UndefinedMetricWarning: Precision and F-score are ill-defined and being set to 0.0 in labels with no predicted samples.\n",
      "  'precision', 'predicted', average, warn_for)\n",
      "C:\\Users\\Jay\\lib\\site-packages\\sklearn\\metrics\\classification.py:1437: UndefinedMetricWarning: Precision and F-score are ill-defined and being set to 0.0 in labels with no predicted samples.\n",
      "  'precision', 'predicted', average, warn_for)\n",
      "C:\\Users\\Jay\\lib\\site-packages\\sklearn\\metrics\\classification.py:1437: UndefinedMetricWarning: Precision and F-score are ill-defined and being set to 0.0 in labels with no predicted samples.\n",
      "  'precision', 'predicted', average, warn_for)\n"
     ]
    }
   ],
   "source": [
    "print(classification_report(os_y_train_test, Updated_Logistic_Regression_model_ovr.predict(os_X_train_test)))"
   ]
  },
  {
   "cell_type": "markdown",
   "metadata": {},
   "source": [
    "### - Quick thoughts\n",
    "- The predicted values have been changed a lot than the previous result.\n",
    "- The previous model predicted +3 class and -3 class mostly.\n",
    "- But, now it aimed -3 class and +1 class.\n",
    "- Have to understand what causes this kind of changes."
   ]
  },
  {
   "cell_type": "code",
   "execution_count": 44,
   "metadata": {},
   "outputs": [
    {
     "data": {
      "text/plain": [
       "-3    577\n",
       "1     445\n",
       "-1    207\n",
       "3      95\n",
       "2       2\n",
       "dtype: int64"
      ]
     },
     "execution_count": 44,
     "metadata": {},
     "output_type": "execute_result"
    }
   ],
   "source": [
    "pd.Series(Updated_Logistic_Regression_model_ovr.predict(os_X_train_test)).value_counts()"
   ]
  },
  {
   "cell_type": "markdown",
   "metadata": {},
   "source": [
    "### - Train_Test Summary (re-fitted model used)"
   ]
  },
  {
   "cell_type": "code",
   "execution_count": 45,
   "metadata": {},
   "outputs": [
    {
     "name": "stdout",
     "output_type": "stream",
     "text": [
      "              precision    recall  f1-score   support\n",
      "\n",
      "          -1       0.33      0.25      0.28       195\n",
      "          -2       0.00      0.00      0.00       125\n",
      "          -3       0.15      0.57      0.23        89\n",
      "           1       0.28      0.37      0.32       221\n",
      "           2       0.50      0.01      0.02       123\n",
      "           3       0.10      0.07      0.08       102\n",
      "\n",
      "    accuracy                           0.22       855\n",
      "   macro avg       0.23      0.21      0.16       855\n",
      "weighted avg       0.25      0.22      0.18       855\n",
      "\n"
     ]
    },
    {
     "name": "stderr",
     "output_type": "stream",
     "text": [
      "C:\\Users\\Jay\\lib\\site-packages\\sklearn\\metrics\\classification.py:1437: UndefinedMetricWarning: Precision and F-score are ill-defined and being set to 0.0 in labels with no predicted samples.\n",
      "  'precision', 'predicted', average, warn_for)\n",
      "C:\\Users\\Jay\\lib\\site-packages\\sklearn\\metrics\\classification.py:1437: UndefinedMetricWarning: Precision and F-score are ill-defined and being set to 0.0 in labels with no predicted samples.\n",
      "  'precision', 'predicted', average, warn_for)\n",
      "C:\\Users\\Jay\\lib\\site-packages\\sklearn\\metrics\\classification.py:1437: UndefinedMetricWarning: Precision and F-score are ill-defined and being set to 0.0 in labels with no predicted samples.\n",
      "  'precision', 'predicted', average, warn_for)\n"
     ]
    }
   ],
   "source": [
    "print(classification_report(y_train_test, Updated_Logistic_Regression_model_ovr.predict(X_train_test)))"
   ]
  },
  {
   "cell_type": "code",
   "execution_count": 46,
   "metadata": {},
   "outputs": [],
   "source": [
    "updated_pred_y_train_test = pd.Series(Updated_Logistic_Regression_model_ovr.predict(X_train_test))"
   ]
  },
  {
   "cell_type": "code",
   "execution_count": 47,
   "metadata": {},
   "outputs": [],
   "source": [
    "updated_backtest_train_test_data = pd.concat([train_test_data['date'],\n",
    "                                              train_test_data['price_diff'],\n",
    "                                              pd.Series(updated_pred_y_train_test, name='updated_pred_y_train_test'),\n",
    "                                              pd.Series(y_train_test, name='actual_y_train_test')], axis=1)"
   ]
  },
  {
   "cell_type": "code",
   "execution_count": 48,
   "metadata": {},
   "outputs": [],
   "source": [
    "updated_backtest_train_test_data_profits = []\n",
    "\n",
    "for i in range(len(updated_backtest_train_test_data)):\n",
    "    \n",
    "    price_diff = updated_backtest_train_test_data.iat[i,1]\n",
    "    pred_y_train_test = updated_backtest_train_test_data.iat[i,2]\n",
    "    \n",
    "    if pred_y_train_test == '3':\n",
    "        updated_backtest_train_test_data_profits.append(price_diff)\n",
    "    elif pred_y_train_test == '2':\n",
    "        updated_backtest_train_test_data_profits.append(price_diff)\n",
    "    elif pred_y_train_test == '1':\n",
    "        updated_backtest_train_test_data_profits.append(price_diff)\n",
    "    elif pred_y_train_test == '-1':\n",
    "        updated_backtest_train_test_data_profits.append(-price_diff)\n",
    "    elif pred_y_train_test == '-2':\n",
    "        updated_backtest_train_test_data_profits.append(-price_diff)\n",
    "    elif pred_y_train_test == '-3':\n",
    "        updated_backtest_train_test_data_profits.append(-price_diff)\n",
    "    else:\n",
    "        updated_backtest_train_test_data_profits.append(0)"
   ]
  },
  {
   "cell_type": "code",
   "execution_count": 49,
   "metadata": {},
   "outputs": [
    {
     "data": {
      "text/plain": [
       "<matplotlib.axes._subplots.AxesSubplot at 0x2289fe873c8>"
      ]
     },
     "execution_count": 49,
     "metadata": {},
     "output_type": "execute_result"
    },
    {
     "data": {
      "image/png": "[encoded data removed]",
      "text/plain": [
       "<Figure size 432x288 with 1 Axes>"
      ]
     },
     "metadata": {},
     "output_type": "display_data"
    }
   ],
   "source": [
    "pd.Series(updated_backtest_train_test_data_profits).cumsum().plot()"
   ]
  },
  {
   "cell_type": "code",
   "execution_count": 50,
   "metadata": {},
   "outputs": [
    {
     "data": {
      "image/png": "[encoded data removed]",
      "text/plain": [
       "<Figure size 432x288 with 1 Axes>"
      ]
     },
     "metadata": {},
     "output_type": "display_data"
    }
   ],
   "source": [
    "plt.hist(updated_backtest_train_test_data_profits)\n",
    "plt.show()"
   ]
  },
  {
   "cell_type": "code",
   "execution_count": 51,
   "metadata": {},
   "outputs": [
    {
     "name": "stdout",
     "output_type": "stream",
     "text": [
      "###########################\n",
      "54\n",
      "41\n",
      "###########################\n",
      "56\n",
      "40\n",
      "###########################\n",
      "125\n",
      "123\n",
      "###########################\n",
      "225\n",
      "191\n"
     ]
    }
   ],
   "source": [
    "updated_backtest_train_data_profit = pd.DataFrame(updated_backtest_train_test_data_profits, columns=['profit'])\n",
    "print('###########################')\n",
    "print(len(updated_backtest_train_data_profit[updated_backtest_train_data_profit['profit'] > 300]))\n",
    "print(len(updated_backtest_train_data_profit[updated_backtest_train_data_profit['profit'] < -300]))\n",
    "print('###########################')\n",
    "print(len(updated_backtest_train_data_profit[(updated_backtest_train_data_profit['profit'] > 200) & (updated_backtest_train_data_profit['profit'] <= 300)]))\n",
    "print(len(updated_backtest_train_data_profit[(updated_backtest_train_data_profit['profit'] >= -300) & (updated_backtest_train_data_profit['profit'] < -200)]))\n",
    "print('###########################')\n",
    "print(len(updated_backtest_train_data_profit[(updated_backtest_train_data_profit['profit'] > 100) & (updated_backtest_train_data_profit['profit'] <= 200)]))\n",
    "print(len(updated_backtest_train_data_profit[(updated_backtest_train_data_profit['profit'] >= -200) & (updated_backtest_train_data_profit['profit'] < -100)]))\n",
    "print('###########################')\n",
    "print(len(updated_backtest_train_data_profit[(updated_backtest_train_data_profit['profit'] > 0) & (updated_backtest_train_data_profit['profit'] <= 100)]))\n",
    "print(len(updated_backtest_train_data_profit[(updated_backtest_train_data_profit['profit'] >= -100) & (updated_backtest_train_data_profit['profit'] < -0)]))"
   ]
  },
  {
   "cell_type": "markdown",
   "metadata": {},
   "source": [
    "#### - OOS Summary (re-fitted model used)"
   ]
  },
  {
   "cell_type": "code",
   "execution_count": 52,
   "metadata": {},
   "outputs": [
    {
     "name": "stdout",
     "output_type": "stream",
     "text": [
      "              precision    recall  f1-score   support\n",
      "\n",
      "          -1       0.19      0.11      0.14        28\n",
      "          -2       0.00      0.00      0.00        12\n",
      "          -3       0.18      0.71      0.29        17\n",
      "           1       0.24      0.27      0.25        33\n",
      "           2       0.00      0.00      0.00        19\n",
      "           3       0.18      0.10      0.12        21\n",
      "\n",
      "    accuracy                           0.20       130\n",
      "   macro avg       0.13      0.20      0.13       130\n",
      "weighted avg       0.15      0.20      0.15       130\n",
      "\n"
     ]
    },
    {
     "name": "stderr",
     "output_type": "stream",
     "text": [
      "C:\\Users\\Jay\\lib\\site-packages\\sklearn\\metrics\\classification.py:1437: UndefinedMetricWarning: Precision and F-score are ill-defined and being set to 0.0 in labels with no predicted samples.\n",
      "  'precision', 'predicted', average, warn_for)\n",
      "C:\\Users\\Jay\\lib\\site-packages\\sklearn\\metrics\\classification.py:1437: UndefinedMetricWarning: Precision and F-score are ill-defined and being set to 0.0 in labels with no predicted samples.\n",
      "  'precision', 'predicted', average, warn_for)\n",
      "C:\\Users\\Jay\\lib\\site-packages\\sklearn\\metrics\\classification.py:1437: UndefinedMetricWarning: Precision and F-score are ill-defined and being set to 0.0 in labels with no predicted samples.\n",
      "  'precision', 'predicted', average, warn_for)\n"
     ]
    }
   ],
   "source": [
    "print(classification_report(y_oos, Updated_Logistic_Regression_model_ovr.predict(X_oos)))"
   ]
  },
  {
   "cell_type": "code",
   "execution_count": 53,
   "metadata": {},
   "outputs": [],
   "source": [
    "updated_pred_y_oos = pd.Series(Updated_Logistic_Regression_model_ovr.predict(X_oos))"
   ]
  },
  {
   "cell_type": "code",
   "execution_count": 54,
   "metadata": {},
   "outputs": [],
   "source": [
    "updated_backtest_oos_data = pd.concat([oos_data['date'],\n",
    "                               oos_data['price_diff'],\n",
    "                               pd.Series(updated_pred_y_oos, name='pred_y_oos'),\n",
    "                               pd.Series(y_oos, name='actual_y_oos')], axis=1)"
   ]
  },
  {
   "cell_type": "code",
   "execution_count": 55,
   "metadata": {},
   "outputs": [],
   "source": [
    "updated_backtest_oos_data_profits = []\n",
    "\n",
    "for i in range(len(updated_backtest_oos_data)):\n",
    "    \n",
    "    price_diff = updated_backtest_oos_data.iat[i,1]\n",
    "    pred_y_oos = updated_backtest_oos_data.iat[i,2]\n",
    "    \n",
    "    if pred_y_oos == '1':\n",
    "        updated_backtest_oos_data_profits.append(price_diff)\n",
    "    elif pred_y_oos == '2':\n",
    "        updated_backtest_oos_data_profits.append(price_diff)\n",
    "    elif pred_y_oos == '3':\n",
    "        updated_backtest_oos_data_profits.append(price_diff)\n",
    "    elif pred_y_oos == '-1':\n",
    "        updated_backtest_oos_data_profits.append(-price_diff)\n",
    "    elif pred_y_oos == '-2':\n",
    "        updated_backtest_oos_data_profits.append(-price_diff)\n",
    "    elif pred_y_oos == '-3':\n",
    "        updated_backtest_oos_data_profits.append(-price_diff)\n",
    "    else:\n",
    "        updated_backtest_oos_data_profits.append(0)\n",
    "    "
   ]
  },
  {
   "cell_type": "code",
   "execution_count": 56,
   "metadata": {},
   "outputs": [
    {
     "data": {
      "text/plain": [
       "<matplotlib.axes._subplots.AxesSubplot at 0x228a01049e8>"
      ]
     },
     "execution_count": 56,
     "metadata": {},
     "output_type": "execute_result"
    },
    {
     "data": {
      "image/png": "[encoded data removed]",
      "text/plain": [
       "<Figure size 432x288 with 1 Axes>"
      ]
     },
     "metadata": {},
     "output_type": "display_data"
    }
   ],
   "source": [
    "pd.Series(updated_backtest_oos_data_profits).cumsum().plot()"
   ]
  },
  {
   "cell_type": "code",
   "execution_count": 57,
   "metadata": {},
   "outputs": [
    {
     "name": "stdout",
     "output_type": "stream",
     "text": [
      "########################### Updated OOS Summary ###########################\n",
      "1. Total Profit:  2070\n",
      "2. Happy Rate:  50.7692 %\n",
      "3. Sharpe Ratio:  1.266\n",
      "4. MDD Amount : -1700\n",
      "5. MDD Length : 51\n"
     ]
    },
    {
     "data": {
      "image/png": "[encoded data removed]",
      "text/plain": [
       "<Figure size 576x360 with 1 Axes>"
      ]
     },
     "metadata": {},
     "output_type": "display_data"
    }
   ],
   "source": [
    "updated_backtest_oos = pd.DataFrame(updated_backtest_oos_data_profits ,columns=['updated_backtest_oos'])\n",
    "\n",
    "win = len(updated_backtest_oos[updated_backtest_oos['updated_backtest_oos'] > 0])\n",
    "lose = len(updated_backtest_oos[updated_backtest_oos['updated_backtest_oos'] < 0])\n",
    "\n",
    "MDD_end_idx = (np.maximum.accumulate(updated_backtest_oos['updated_backtest_oos'].cumsum()) - updated_backtest_oos['updated_backtest_oos'].cumsum()).idxmax()\n",
    "MDD_start_idx = updated_backtest_oos['updated_backtest_oos'].cumsum()[:MDD_end_idx].idxmax()\n",
    "\n",
    "MDD_amount = updated_backtest_oos['updated_backtest_oos'].cumsum()[:MDD_start_idx + 1].iloc[-1] - updated_backtest_oos['updated_backtest_oos'].cumsum()[:MDD_end_idx + 1].iloc[-1]\n",
    "\n",
    "print('########################### Updated OOS Summary ###########################')\n",
    "print('1. Total Profit: ', np.sum(updated_backtest_oos['updated_backtest_oos']))\n",
    "print('2. Happy Rate: ', round((win / (win + lose)) * 100, 4), '%')\n",
    "print('3. Sharpe Ratio: ', round((252**0.5) * (updated_backtest_oos['updated_backtest_oos'].mean() / updated_backtest_oos['updated_backtest_oos'].std()), 4))\n",
    "print('4. MDD Amount :', -int(MDD_amount))\n",
    "print('5. MDD Length :', MDD_end_idx - MDD_start_idx)\n",
    "\n",
    "plt.figure(figsize=(8, 5))\n",
    "plt.title(\"Updated OOS\")\n",
    "plt.plot(updated_backtest_oos['updated_backtest_oos'].cumsum())\n",
    "plt.axvline(updated_backtest_oos.index[MDD_start_idx], color='b', linestyle=':', linewidth=1)\n",
    "plt.axvline(updated_backtest_oos.index[MDD_end_idx], color='b', linestyle=':', linewidth=1)\n",
    "plt.show()"
   ]
  },
  {
   "cell_type": "code",
   "execution_count": 58,
   "metadata": {},
   "outputs": [
    {
     "data": {
      "text/html": [
       "<div>\n",
       "<style scoped>\n",
       "    .dataframe tbody tr th:only-of-type {\n",
       "        vertical-align: middle;\n",
       "    }\n",
       "\n",
       "    .dataframe tbody tr th {\n",
       "        vertical-align: top;\n",
       "    }\n",
       "\n",
       "    .dataframe thead th {\n",
       "        text-align: right;\n",
       "    }\n",
       "</style>\n",
       "<table border=\"1\" class=\"dataframe\">\n",
       "  <thead>\n",
       "    <tr style=\"text-align: right;\">\n",
       "      <th></th>\n",
       "      <th>0</th>\n",
       "      <th>1</th>\n",
       "    </tr>\n",
       "  </thead>\n",
       "  <tbody>\n",
       "    <tr>\n",
       "      <th>0</th>\n",
       "      <td>1.000000</td>\n",
       "      <td>0.898201</td>\n",
       "    </tr>\n",
       "    <tr>\n",
       "      <th>1</th>\n",
       "      <td>0.898201</td>\n",
       "      <td>1.000000</td>\n",
       "    </tr>\n",
       "  </tbody>\n",
       "</table>\n",
       "</div>"
      ],
      "text/plain": [
       "          0         1\n",
       "0  1.000000  0.898201\n",
       "1  0.898201  1.000000"
      ]
     },
     "execution_count": 58,
     "metadata": {},
     "output_type": "execute_result"
    }
   ],
   "source": [
    "pd.concat([pd.Series(oos_origin_feature_profits),\n",
    "           pd.Series(updated_backtest_oos_data_profits)], axis=1).corr()"
   ]
  },
  {
   "cell_type": "code",
   "execution_count": 59,
   "metadata": {},
   "outputs": [
    {
     "data": {
      "image/png": "[encoded data removed]",
      "text/plain": [
       "<Figure size 432x288 with 1 Axes>"
      ]
     },
     "metadata": {},
     "output_type": "display_data"
    }
   ],
   "source": [
    "plt.hist(updated_backtest_oos_data_profits)\n",
    "plt.show()"
   ]
  },
  {
   "cell_type": "code",
   "execution_count": 60,
   "metadata": {},
   "outputs": [
    {
     "name": "stdout",
     "output_type": "stream",
     "text": [
      "###########################\n",
      "10\n",
      "5\n",
      "###########################\n",
      "14\n",
      "9\n",
      "###########################\n",
      "14\n",
      "17\n",
      "###########################\n",
      "28\n",
      "33\n"
     ]
    }
   ],
   "source": [
    "updated_backtest_oos_data_profit = pd.DataFrame(updated_backtest_oos_data_profits, columns=['profit'])\n",
    "print('###########################')\n",
    "print(len(updated_backtest_oos_data_profit[updated_backtest_oos_data_profit['profit'] > 300]))\n",
    "print(len(updated_backtest_oos_data_profit[updated_backtest_oos_data_profit['profit'] < -300]))\n",
    "print('###########################')\n",
    "print(len(updated_backtest_oos_data_profit[(updated_backtest_oos_data_profit['profit'] > 200) & (updated_backtest_oos_data_profit['profit'] <= 300)]))\n",
    "print(len(updated_backtest_oos_data_profit[(updated_backtest_oos_data_profit['profit'] >= -300) & (updated_backtest_oos_data_profit['profit'] < -200)]))\n",
    "print('###########################')\n",
    "print(len(updated_backtest_oos_data_profit[(updated_backtest_oos_data_profit['profit'] > 100) & (updated_backtest_oos_data_profit['profit'] <= 200)]))\n",
    "print(len(updated_backtest_oos_data_profit[(updated_backtest_oos_data_profit['profit'] >= -200) & (updated_backtest_oos_data_profit['profit'] < -100)]))\n",
    "print('###########################')\n",
    "print(len(updated_backtest_oos_data_profit[(updated_backtest_oos_data_profit['profit'] > 0) & (updated_backtest_oos_data_profit['profit'] <= 100)]))\n",
    "print(len(updated_backtest_oos_data_profit[(updated_backtest_oos_data_profit['profit'] >= -100) & (updated_backtest_oos_data_profit['profit'] < -0)]))"
   ]
  },
  {
   "cell_type": "markdown",
   "metadata": {},
   "source": [
    "## - Conclusion\n",
    "- Hard to say that it is better than original feature.\n",
    "    - Why did I end up with the above result?\n",
    "        - 1) Lack of data, and the logistic model was not able to figure out a better pattern.\n",
    "            - I felt a need of synthetic data.\n",
    "        - 2) The target values are all binary format. I shouldn't convert data from numeric to binary. What I have done was compressing information.\n",
    "            - Let's try with Numerical data (do not convert to categorical data)\n",
    "        - 3) The input values are all binary format also. Same page here. I will work on the original input data instead of binary data. \n",
    "            - Let's try with Numerical data (do not convert to categorical data)\n",
    "        - 4) The model tunning was not conducted \n",
    "            - Let's try to elaborate the model.\n",
    "- Had a fun with this, and learned more about the logistic regression from this project."
   ]
  },
  {
   "cell_type": "code",
   "execution_count": null,
   "metadata": {},
   "outputs": [],
   "source": []
  }
 ],
 "metadata": {
  "kernelspec": {
   "display_name": "Python 3",
   "language": "python",
   "name": "python3"
  },
  "language_info": {
   "codemirror_mode": {
    "name": "ipython",
    "version": 3
   },
   "file_extension": ".py",
   "mimetype": "text/x-python",
   "name": "python",
   "nbconvert_exporter": "python",
   "pygments_lexer": "ipython3",
   "version": "3.6.5"
  }
 },
 "nbformat": 4,
 "nbformat_minor": 2
}
